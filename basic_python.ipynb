{
 "cells": [
  {
   "cell_type": "code",
   "execution_count": 1,
   "id": "f78edf3c-d9dd-47bf-a68b-9cb0f383aa60",
   "metadata": {},
   "outputs": [
    {
     "name": "stdout",
     "output_type": "stream",
     "text": [
      "Hello!!! Varun K!\n"
     ]
    }
   ],
   "source": [
    "print(\"Hello!!! Varun K!\")"
   ]
  },
  {
   "cell_type": "code",
   "execution_count": 2,
   "id": "01788e75-c685-49e8-b155-9d6df977874e",
   "metadata": {},
   "outputs": [
    {
     "name": "stdout",
     "output_type": "stream",
     "text": [
      "Hello World "
     ]
    }
   ],
   "source": [
    "print(\"Hello\", \"World\", end = \" \")"
   ]
  },
  {
   "cell_type": "code",
   "execution_count": 1,
   "id": "5073fd1f-7e85-4484-b4c5-4dca157d1f58",
   "metadata": {},
   "outputs": [
    {
     "name": "stdout",
     "output_type": "stream",
     "text": [
      "Hello<>Gen AI BatchYo"
     ]
    }
   ],
   "source": [
    "print(\"Hello\", \"Gen AI Batch\", sep = '<>', end = \"Yo\")"
   ]
  },
  {
   "cell_type": "code",
   "execution_count": 11,
   "id": "523b1ec1-ed58-49a9-9717-7b158b0749ed",
   "metadata": {},
   "outputs": [
    {
     "name": "stdout",
     "output_type": "stream",
     "text": [
      "75\n"
     ]
    }
   ],
   "source": [
    "import sys\n",
    "\n",
    "s = sys.getsizeof(\"size of this string object\")\n",
    "print(s)\n"
   ]
  },
  {
   "cell_type": "code",
   "execution_count": 12,
   "id": "470a819c-0314-4757-bf7d-37b834706f04",
   "metadata": {},
   "outputs": [
    {
     "name": "stdout",
     "output_type": "stream",
     "text": [
      "26\n"
     ]
    }
   ],
   "source": [
    "print(len(\"size of this string object\"))"
   ]
  },
  {
   "cell_type": "code",
   "execution_count": 6,
   "id": "7adb9ffd-7aee-47c0-bc52-a9165a3b152d",
   "metadata": {},
   "outputs": [
    {
     "data": {
      "text/plain": [
       "52"
      ]
     },
     "execution_count": 6,
     "metadata": {},
     "output_type": "execute_result"
    }
   ],
   "source": [
    "26*2"
   ]
  },
  {
   "cell_type": "code",
   "execution_count": 9,
   "id": "a374988e-23dd-44c7-a8d7-b51972a32f58",
   "metadata": {},
   "outputs": [
    {
     "name": "stdout",
     "output_type": "stream",
     "text": [
      "17\n"
     ]
    }
   ],
   "source": [
    "print(len(\"Hello!!! Varun K!\"))"
   ]
  },
  {
   "cell_type": "code",
   "execution_count": 10,
   "id": "58d0d81b-f84a-46ff-be8c-8cd3a5f08d9e",
   "metadata": {},
   "outputs": [
    {
     "name": "stdout",
     "output_type": "stream",
     "text": [
      "66\n"
     ]
    }
   ],
   "source": [
    "print(sys.getsizeof(\"Hello!!! Varun K!\"))"
   ]
  },
  {
   "cell_type": "code",
   "execution_count": 13,
   "id": "71e63b7a-4104-4b38-9640-c4fc694b087e",
   "metadata": {},
   "outputs": [
    {
     "name": "stdout",
     "output_type": "stream",
     "text": [
      "29\n"
     ]
    }
   ],
   "source": [
    "print(len(\"Today the day is quite hectic\"))"
   ]
  },
  {
   "cell_type": "code",
   "execution_count": 14,
   "id": "a5d06941-d995-4918-8971-70efdbcf5897",
   "metadata": {},
   "outputs": [
    {
     "name": "stdout",
     "output_type": "stream",
     "text": [
      "78\n"
     ]
    }
   ],
   "source": [
    "print(sys.getsizeof(\"Today the day is quite hectic\"))"
   ]
  },
  {
   "cell_type": "code",
   "execution_count": 1,
   "id": "1812e22e-60c3-451f-b832-6a0b22bda44c",
   "metadata": {},
   "outputs": [
    {
     "data": {
      "text/plain": [
       "10"
      ]
     },
     "execution_count": 1,
     "metadata": {},
     "output_type": "execute_result"
    }
   ],
   "source": [
    "10 & 110"
   ]
  },
  {
   "cell_type": "code",
   "execution_count": 2,
   "id": "a9396915-410a-4c7c-8491-95dfb6d23fd6",
   "metadata": {},
   "outputs": [
    {
     "data": {
      "text/plain": [
       "'0b1010'"
      ]
     },
     "execution_count": 2,
     "metadata": {},
     "output_type": "execute_result"
    }
   ],
   "source": [
    "bin(10)"
   ]
  },
  {
   "cell_type": "code",
   "execution_count": 4,
   "id": "bd87c550-a6e5-4a24-8d99-0628bd22b486",
   "metadata": {},
   "outputs": [
    {
     "data": {
      "text/plain": [
       "'0o12'"
      ]
     },
     "execution_count": 4,
     "metadata": {},
     "output_type": "execute_result"
    }
   ],
   "source": [
    "oct(10)"
   ]
  },
  {
   "cell_type": "code",
   "execution_count": 5,
   "id": "b7d8ec35-7907-4048-bc2e-5e973c2d5dd0",
   "metadata": {},
   "outputs": [
    {
     "data": {
      "text/plain": [
       "'0xa'"
      ]
     },
     "execution_count": 5,
     "metadata": {},
     "output_type": "execute_result"
    }
   ],
   "source": [
    "hex(10)"
   ]
  },
  {
   "cell_type": "code",
   "execution_count": null,
   "id": "22426f32-2026-4800-9fac-970faae8ee36",
   "metadata": {},
   "outputs": [],
   "source": [
    "import decimal\n",
    "decimal.Decimal('123.456')"
   ]
  },
  {
   "cell_type": "code",
   "execution_count": 1,
   "id": "9da6082b-5434-4dcd-b701-2a59aaeccbba",
   "metadata": {},
   "outputs": [],
   "source": [
    "v = \"I Love You Varunnnnnnnn\""
   ]
  },
  {
   "cell_type": "code",
   "execution_count": 14,
   "id": "0cfe14f9-0b92-4d19-8977-d3f55b46fcc0",
   "metadata": {},
   "outputs": [
    {
     "name": "stdout",
     "output_type": "stream",
     "text": [
      "n n n n n n n n u r a V   u o Y   e v o L   I "
     ]
    }
   ],
   "source": [
    "for i in range(1, len(v) + 1):\n",
    "    print(v[-i], end = \" \")"
   ]
  },
  {
   "cell_type": "code",
   "execution_count": 5,
   "id": "60a3f977-ba36-4eb6-a327-bd6938adb332",
   "metadata": {},
   "outputs": [
    {
     "data": {
      "text/plain": [
       "23"
      ]
     },
     "execution_count": 5,
     "metadata": {},
     "output_type": "execute_result"
    }
   ],
   "source": [
    "len(v)"
   ]
  },
  {
   "cell_type": "code",
   "execution_count": 15,
   "id": "dd5e69a1-59d7-409c-8f8d-4f2d6e536009",
   "metadata": {},
   "outputs": [
    {
     "name": "stdout",
     "output_type": "stream",
     "text": [
      "I   L o v e   Y o u   V a r u n n n n n n n n "
     ]
    }
   ],
   "source": [
    "for i in range(len(v)):\n",
    "    print(v[i], end = \" \")"
   ]
  },
  {
   "cell_type": "code",
   "execution_count": 16,
   "id": "03d8cd23-0d85-46ba-86c3-09237057295e",
   "metadata": {},
   "outputs": [],
   "source": [
    "for i in range(len(v)):\n",
    "    print(v[i], end = \" \")"
   ]
  },
  {
   "cell_type": "code",
   "execution_count": null,
   "id": "14139e3e-6a03-4967-b92e-450c1db4f632",
   "metadata": {},
   "outputs": [],
   "source": [
    "\"\"\"\n",
    "1. Finding the domain of each email\n",
    "\n",
    "input: ['foo@a.com', 'bar@a.com', 'baz@b.com', 'qux@d.com']\n",
    "output: ['a.com', 'b.com', 'c.com']\n",
    "\n",
    "2. Finding the domain of each URL\n",
    "\n",
    "input: ['www.a.com', 'wwww.b.com', 'www.c.com']\n",
    "output: ['a.com', 'b.com', 'c.com']\n",
    "\n",
    "3. Count the number of times each URL while ignoring the ones that do not matter\n",
    "\n",
    "input: ['a.com', 'a.com', 'b.com', 'd.com'], ['a.com', 'a.com', 'c.com']\n",
    "output: ['a.com' : 2, 'b.com' : 1, 'c.com' : 0]\n",
    "\n",
    "4. Return the dictionary with the 'www' attached\n",
    "\n",
    "input: ['a.com' : 2, 'b.com' : 1, 'c.com' : 0]\n",
    "output: ['www.a.com' : 2, 'wwww.b.com' : 1, 'www.c.com' : 0]\n",
    "\n",
    "\"\"\""
   ]
  },
  {
   "cell_type": "code",
   "execution_count": 1,
   "id": "af4b74ee",
   "metadata": {},
   "outputs": [],
   "source": [
    "def find_domain(l1):\n",
    "    l2 = [i.split('@') if '@' in i else i.split('www.') for i in l1]\n",
    "    l3 = [l2[i][j] for i in range(len(l2)) for j in range(len(l2[i])) if j == 1]\n",
    "    return l3\n",
    "    "
   ]
  },
  {
   "cell_type": "code",
   "execution_count": 2,
   "id": "9b030c47",
   "metadata": {},
   "outputs": [],
   "source": [
    "l1 = ['foo@a.com', 'bar@a.com', 'baz@b.com', 'qux@d.com']\n",
    "l2 = find_domain(l1)"
   ]
  },
  {
   "cell_type": "code",
   "execution_count": 3,
   "id": "c6203d7c",
   "metadata": {},
   "outputs": [
    {
     "name": "stdout",
     "output_type": "stream",
     "text": [
      "['a.com', 'a.com', 'b.com', 'd.com']\n"
     ]
    }
   ],
   "source": [
    "print(l2)\n",
    "# print(l4)"
   ]
  },
  {
   "cell_type": "code",
   "execution_count": 4,
   "id": "5fac645f",
   "metadata": {},
   "outputs": [
    {
     "data": {
      "text/plain": [
       "['a.com', 'b.com', 'c.com']"
      ]
     },
     "execution_count": 4,
     "metadata": {},
     "output_type": "execute_result"
    }
   ],
   "source": [
    "l4 = ['www.a.com', 'wwww.b.com', 'www.c.com']\n",
    "l5 = find_domain(l4)\n",
    "l5"
   ]
  },
  {
   "cell_type": "code",
   "execution_count": 73,
   "id": "7ba11c29",
   "metadata": {},
   "outputs": [],
   "source": [
    "import pandas as pd\n",
    "\n",
    "def count_domain():    # we have to consider l2 and l5 list for input\n",
    "    \n",
    "    l1 = ['foo@a.com', 'bar@a.com', 'baz@b.com', 'qux@d.com']\n",
    "\n",
    "    l2 = find_domain(l1)\n",
    "\n",
    "    l4 = ['www.a.com', 'www.b.com', 'www.c.com']\n",
    "\n",
    "    l5 = find_domain(l4)\n",
    "\n",
    "    \n",
    "\n",
    "    # l7 = [j for i in l4 for j in l5 if i.split('wwww.') == j]\n",
    "    # print(l7)\n",
    "\n",
    "    if len(l5) > len(l2):\n",
    "\n",
    "        # for i in range(len(l5)):\n",
    "        #     # print(l5[i])\n",
    "        #     if l5[i] in l2:\n",
    "        #         print(\"Yes\")\n",
    "        #     else:\n",
    "        #         print(\"No\")\n",
    "        d1 = [[i, l2.count(i)] for i in set(l5)]\n",
    "        print(d1)\n",
    "\n",
    "    else:\n",
    "        # print(dict([[i, l2.count(i)] for i in set(l5)]))\n",
    "        d1 = [[i, l2.count(i)] for i in set(l5)]\n",
    "        \n",
    "        # return d1\n",
    "\n",
    "        # d2 = [[d1[i][j] for j in range(len(d1[i])) if j == 0]for i in range(len(d1))]\n",
    "        # d2 = list(filter(lambda d1, l4: l4.any(d1)))\n",
    "        \n",
    "      \n",
    "        for i in range(len(d1)):\n",
    "            for j in range(len(d1[i])):\n",
    "                if j == 0:\n",
    "                    d1[i][j] = l4[i]\n",
    "        \n",
    "\n",
    "        d1 = dict(d1)\n",
    "\n",
    "        return d1\n",
    "\n",
    "      \n",
    "        # print([[i, l2.count(i)] for i in set(l5)])\n",
    "        # for i in range(len(l2)):\n",
    "        #     # print(l2[i])\n",
    "        #     for j in l5:\n",
    "        #         if j in l:\n",
    "        #             print(dict(j, j.count(l2[i])))\n",
    "        #             # print(j, j.count(l2[i]))\n",
    "        #         else:\n",
    "        #             print(dict(j, j.count(l2[i])))\n",
    "                    # print(j, j.count(l2[i]))\n",
    "\n",
    "    # print(l2)     # ['a.com', 'a.com', 'b.com', 'd.com']\n",
    "    # print(l5)     # ['a.com', 'b.com', 'c.com']\n",
    "\n",
    "            \n",
    "\n",
    "\n"
   ]
  },
  {
   "cell_type": "code",
   "execution_count": 74,
   "id": "8d7e66e6",
   "metadata": {},
   "outputs": [],
   "source": [
    "d1 = count_domain()"
   ]
  },
  {
   "cell_type": "code",
   "execution_count": 75,
   "id": "af260fcc",
   "metadata": {},
   "outputs": [
    {
     "data": {
      "text/plain": [
       "{'www.a.com': 2, 'www.b.com': 1, 'www.c.com': 0}"
      ]
     },
     "execution_count": 75,
     "metadata": {},
     "output_type": "execute_result"
    },
    {
     "ename": "",
     "evalue": "",
     "output_type": "error",
     "traceback": [
      "\u001b[1;31mThe Kernel crashed while executing code in the current cell or a previous cell. \n",
      "\u001b[1;31mPlease review the code in the cell(s) to identify a possible cause of the failure. \n",
      "\u001b[1;31mClick <a href='https://aka.ms/vscodeJupyterKernelCrash'>here</a> for more info. \n",
      "\u001b[1;31mView Jupyter <a href='command:jupyter.viewOutput'>log</a> for further details."
     ]
    }
   ],
   "source": [
    "d1"
   ]
  },
  {
   "cell_type": "code",
   "execution_count": 61,
   "id": "ecbaaf29",
   "metadata": {},
   "outputs": [
    {
     "data": {
      "text/plain": [
       "'c.com'"
      ]
     },
     "execution_count": 61,
     "metadata": {},
     "output_type": "execute_result"
    }
   ],
   "source": [
    "d1[2][0]"
   ]
  },
  {
   "cell_type": "code",
   "execution_count": null,
   "id": "3a10600f",
   "metadata": {},
   "outputs": [],
   "source": []
  }
 ],
 "metadata": {
  "kernelspec": {
   "display_name": "Python 3 (ipykernel)",
   "language": "python",
   "name": "python3"
  },
  "language_info": {
   "codemirror_mode": {
    "name": "ipython",
    "version": 3
   },
   "file_extension": ".py",
   "mimetype": "text/x-python",
   "name": "python",
   "nbconvert_exporter": "python",
   "pygments_lexer": "ipython3",
   "version": "3.8.8"
  }
 },
 "nbformat": 4,
 "nbformat_minor": 5
}
