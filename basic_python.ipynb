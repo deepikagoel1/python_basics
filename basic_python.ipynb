{
 "cells": [
  {
   "cell_type": "code",
   "execution_count": 1,
   "id": "f78edf3c-d9dd-47bf-a68b-9cb0f383aa60",
   "metadata": {},
   "outputs": [
    {
     "name": "stdout",
     "output_type": "stream",
     "text": [
      "Hello!!! Varun K!\n"
     ]
    }
   ],
   "source": [
    "print(\"Hello!!! Varun K!\")"
   ]
  },
  {
   "cell_type": "code",
   "execution_count": 2,
   "id": "01788e75-c685-49e8-b155-9d6df977874e",
   "metadata": {},
   "outputs": [
    {
     "name": "stdout",
     "output_type": "stream",
     "text": [
      "Hello World "
     ]
    }
   ],
   "source": [
    "print(\"Hello\", \"World\", end = \" \")"
   ]
  },
  {
   "cell_type": "code",
   "execution_count": 1,
   "id": "5073fd1f-7e85-4484-b4c5-4dca157d1f58",
   "metadata": {},
   "outputs": [
    {
     "name": "stdout",
     "output_type": "stream",
     "text": [
      "Hello<>Gen AI BatchYo"
     ]
    }
   ],
   "source": [
    "print(\"Hello\", \"Gen AI Batch\", sep = '<>', end = \"Yo\")"
   ]
  },
  {
   "cell_type": "code",
   "execution_count": 11,
   "id": "523b1ec1-ed58-49a9-9717-7b158b0749ed",
   "metadata": {},
   "outputs": [
    {
     "name": "stdout",
     "output_type": "stream",
     "text": [
      "75\n"
     ]
    }
   ],
   "source": [
    "import sys\n",
    "\n",
    "s = sys.getsizeof(\"size of this string object\")\n",
    "print(s)\n"
   ]
  },
  {
   "cell_type": "code",
   "execution_count": 12,
   "id": "470a819c-0314-4757-bf7d-37b834706f04",
   "metadata": {},
   "outputs": [
    {
     "name": "stdout",
     "output_type": "stream",
     "text": [
      "26\n"
     ]
    }
   ],
   "source": [
    "print(len(\"size of this string object\"))"
   ]
  },
  {
   "cell_type": "code",
   "execution_count": 6,
   "id": "7adb9ffd-7aee-47c0-bc52-a9165a3b152d",
   "metadata": {},
   "outputs": [
    {
     "data": {
      "text/plain": [
       "52"
      ]
     },
     "execution_count": 6,
     "metadata": {},
     "output_type": "execute_result"
    }
   ],
   "source": [
    "26*2"
   ]
  },
  {
   "cell_type": "code",
   "execution_count": 9,
   "id": "a374988e-23dd-44c7-a8d7-b51972a32f58",
   "metadata": {},
   "outputs": [
    {
     "name": "stdout",
     "output_type": "stream",
     "text": [
      "17\n"
     ]
    }
   ],
   "source": [
    "print(len(\"Hello!!! Varun K!\"))"
   ]
  },
  {
   "cell_type": "code",
   "execution_count": 10,
   "id": "58d0d81b-f84a-46ff-be8c-8cd3a5f08d9e",
   "metadata": {},
   "outputs": [
    {
     "name": "stdout",
     "output_type": "stream",
     "text": [
      "66\n"
     ]
    }
   ],
   "source": [
    "print(sys.getsizeof(\"Hello!!! Varun K!\"))"
   ]
  },
  {
   "cell_type": "code",
   "execution_count": 13,
   "id": "71e63b7a-4104-4b38-9640-c4fc694b087e",
   "metadata": {},
   "outputs": [
    {
     "name": "stdout",
     "output_type": "stream",
     "text": [
      "29\n"
     ]
    }
   ],
   "source": [
    "print(len(\"Today the day is quite hectic\"))"
   ]
  },
  {
   "cell_type": "code",
   "execution_count": 14,
   "id": "a5d06941-d995-4918-8971-70efdbcf5897",
   "metadata": {},
   "outputs": [
    {
     "name": "stdout",
     "output_type": "stream",
     "text": [
      "78\n"
     ]
    }
   ],
   "source": [
    "print(sys.getsizeof(\"Today the day is quite hectic\"))"
   ]
  },
  {
   "cell_type": "code",
   "execution_count": 1,
   "id": "1812e22e-60c3-451f-b832-6a0b22bda44c",
   "metadata": {},
   "outputs": [
    {
     "data": {
      "text/plain": [
       "10"
      ]
     },
     "execution_count": 1,
     "metadata": {},
     "output_type": "execute_result"
    }
   ],
   "source": [
    "10 & 110"
   ]
  },
  {
   "cell_type": "code",
   "execution_count": 2,
   "id": "a9396915-410a-4c7c-8491-95dfb6d23fd6",
   "metadata": {},
   "outputs": [
    {
     "data": {
      "text/plain": [
       "'0b1010'"
      ]
     },
     "execution_count": 2,
     "metadata": {},
     "output_type": "execute_result"
    }
   ],
   "source": [
    "bin(10)"
   ]
  },
  {
   "cell_type": "code",
   "execution_count": 4,
   "id": "bd87c550-a6e5-4a24-8d99-0628bd22b486",
   "metadata": {},
   "outputs": [
    {
     "data": {
      "text/plain": [
       "'0o12'"
      ]
     },
     "execution_count": 4,
     "metadata": {},
     "output_type": "execute_result"
    }
   ],
   "source": [
    "oct(10)"
   ]
  },
  {
   "cell_type": "code",
   "execution_count": 5,
   "id": "b7d8ec35-7907-4048-bc2e-5e973c2d5dd0",
   "metadata": {},
   "outputs": [
    {
     "data": {
      "text/plain": [
       "'0xa'"
      ]
     },
     "execution_count": 5,
     "metadata": {},
     "output_type": "execute_result"
    }
   ],
   "source": [
    "hex(10)"
   ]
  },
  {
   "cell_type": "code",
   "execution_count": null,
   "id": "22426f32-2026-4800-9fac-970faae8ee36",
   "metadata": {},
   "outputs": [],
   "source": [
    "import decimal\n",
    "decimal.Decimal('123.456')"
   ]
  },
  {
   "cell_type": "code",
   "execution_count": 1,
   "id": "9da6082b-5434-4dcd-b701-2a59aaeccbba",
   "metadata": {},
   "outputs": [],
   "source": [
    "v = \"I Love You Varunnnnnnnn\""
   ]
  },
  {
   "cell_type": "code",
   "execution_count": 14,
   "id": "0cfe14f9-0b92-4d19-8977-d3f55b46fcc0",
   "metadata": {},
   "outputs": [
    {
     "name": "stdout",
     "output_type": "stream",
     "text": [
      "n n n n n n n n u r a V   u o Y   e v o L   I "
     ]
    }
   ],
   "source": [
    "for i in range(1, len(v) + 1):\n",
    "    print(v[-i], end = \" \")"
   ]
  },
  {
   "cell_type": "code",
   "execution_count": 5,
   "id": "60a3f977-ba36-4eb6-a327-bd6938adb332",
   "metadata": {},
   "outputs": [
    {
     "data": {
      "text/plain": [
       "23"
      ]
     },
     "execution_count": 5,
     "metadata": {},
     "output_type": "execute_result"
    }
   ],
   "source": [
    "len(v)"
   ]
  },
  {
   "cell_type": "code",
   "execution_count": 15,
   "id": "dd5e69a1-59d7-409c-8f8d-4f2d6e536009",
   "metadata": {},
   "outputs": [
    {
     "name": "stdout",
     "output_type": "stream",
     "text": [
      "I   L o v e   Y o u   V a r u n n n n n n n n "
     ]
    }
   ],
   "source": [
    "for i in range(len(v)):\n",
    "    print(v[i], end = \" \")"
   ]
  },
  {
   "cell_type": "code",
   "execution_count": 16,
   "id": "03d8cd23-0d85-46ba-86c3-09237057295e",
   "metadata": {},
   "outputs": [],
   "source": [
    "for i in range(len(v)):\n",
    "    print(v[i], end = \" \")"
   ]
  },
  {
   "cell_type": "code",
   "execution_count": null,
   "id": "14139e3e-6a03-4967-b92e-450c1db4f632",
   "metadata": {},
   "outputs": [],
   "source": []
  }
 ],
 "metadata": {
  "kernelspec": {
   "display_name": "Python 3 (ipykernel)",
   "language": "python",
   "name": "python3"
  },
  "language_info": {
   "codemirror_mode": {
    "name": "ipython",
    "version": 3
   },
   "file_extension": ".py",
   "mimetype": "text/x-python",
   "name": "python",
   "nbconvert_exporter": "python",
   "pygments_lexer": "ipython3",
   "version": "3.10.8"
  }
 },
 "nbformat": 4,
 "nbformat_minor": 5
}
