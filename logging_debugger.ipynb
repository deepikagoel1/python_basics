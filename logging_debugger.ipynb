{
 "cells": [
  {
   "cell_type": "markdown",
   "metadata": {},
   "source": [
    "Logging in Python"
   ]
  },
  {
   "cell_type": "markdown",
   "metadata": {},
   "source": [
    "Logging is a means of tracking events that happen when some software runs. Logging is important for software developing, debugging, and running. If you don’t have any logging record and your program crashes, there are very few chances that you detect the cause of the problem. And if you detect the cause, it will consume a lot of time. With logging, you can leave a trail of breadcrumbs so that if something goes wrong, we can determine the cause of the problem. \n",
    "\n",
    "There are a number of situations like if you are expecting an integer, you have been given a float and you can a cloud API, the service is down for maintenance, and much more. Such problems are out of control and are hard to determine. "
   ]
  },
  {
   "cell_type": "markdown",
   "metadata": {},
   "source": [
    "Why print statement is not Pythonic"
   ]
  },
  {
   "cell_type": "markdown",
   "metadata": {},
   "source": [
    "Some developers use the concept of printing the statements to validate if the statements are executed correctly or if some error has occurred. But printing is not a good idea. It may solve your issues for simple scripts but for complex scripts, the printing approach will fail.\n",
    "Python has a built-in module logging which allows writing status messages to a file or any other output streams. The file can contain information on which part of the code is executed and what problems have arisen. "
   ]
  },
  {
   "cell_type": "markdown",
   "metadata": {},
   "source": [
    "Python Logging Levels\n",
    "\n",
    "There are five built-in levels of the log message.  \n",
    "\n",
    "Debug: These are used to give Detailed information, typically of interest only when diagnosing problems.\n",
    "\n",
    "Info: These are used to confirm that things are working as expected\n",
    "\n",
    "Warning: These are used as an indication that something unexpected happened, or is indicative of some problem in the near future\n",
    "\n",
    "Error: This tells that due to a more serious problem, the software has not been able to perform some function\n",
    "\n",
    "Critical: This tells serious error, indicating that the program itself may be unable to continue running"
   ]
  },
  {
   "attachments": {
    "image.png": {
     "image/png": "[encoded data removed]"
    }
   },
   "cell_type": "markdown",
   "metadata": {},
   "source": [
    "If required, developers have the option to create more levels but these are sufficient enough to handle every possible situation. Each built-in level has been assigned its numeric value.\n",
    "\n",
    "![image.png](attachment:image.png)\n",
    "\n",
    "The logging module is packed with several features. It has several constants, classes, and methods. The items with all caps are constant, the capitalized items are classes and the items which start with lowercase letters are methods. \n",
    "\n",
    "There are several logger objects offered by the base Handler itself.  \n",
    "\n",
    "Logger.info(msg): This will log a message with level INFO on this logger.\n",
    "\n",
    "Logger.warning(msg): This will log a message with a level WARNING on this logger.\n",
    "\n",
    "Logger.error(msg): This will log a message with level ERROR on this logger.\n",
    "\n",
    "Logger.critical(msg): This will log a message with level CRITICAL on this logger.\n",
    "\n",
    "Logger.log(lvl,msg): This will Log a message with integer level lvl on this logger.\n",
    "\n",
    "Logger.exception(msg): This will log a message with level ERROR on this logger.\n",
    "\n",
    "Logger.setLevel(lvl): This function sets the threshold of this logger to lvl. This means that all the messages below this level will be ignored.\n",
    "\n",
    "Logger.addFilter(filt): This adds a specific filter fit into this logger.\n",
    "\n",
    "Logger.removeFilter(filt): This removes a specific filter fit into this logger.\n",
    "\n",
    "Logger.filter(record): This method applies the logger’s filter to the record provided and returns True if the record is to be processed. Else, it will return False.\n",
    "\n",
    "Logger.addHandler(hdlr): This adds a specific handler hdlr to this logger.\n",
    "\n",
    "Logger.removeHandler(hdlr) : This removes a specific handler hdlr into this logger.\n",
    "\n",
    "Logger.hasHandlers(): This checks if the logger has any handler configured or not. \n"
   ]
  },
  {
   "cell_type": "markdown",
   "metadata": {},
   "source": [
    "Useful Handlers\n",
    "\n",
    "In addition to the base Handler Class, many useful subclasses are provided.\n",
    "\n",
    "Handler                                                Description\n",
    "\n",
    "StreamHandler\t                                       Sends messages to streams (file-like objects).\n",
    "\n",
    "FileHandler\t                                           Sends messages to disk files.\n",
    "BaseRotatingHandler\t                                   Base class for handlers that rotate log files at a certain point. Use             RotatingFileHandler or TimedRotatingFileHandler instead.\n",
    "\n",
    "RotatingFileHandler\t                                   Sends messages to disk files, with support for maximum log file sizes and log file rotation.\n",
    "\n",
    "TimedRotatingFileHandler\t                           Sends messages to disk files, rotating the log file at certain timed intervals.\n",
    "\n",
    "SocketHandler\t                                       Sends messages to TCP/IP sockets. Also supports Unix domain sockets since Python 3.4.\n",
    "\n",
    "DatagramHandler\t                                       Sends messages to UDP sockets. Also supports Unix domain sockets since Python 3.4.\n",
    "\n",
    "SMTPHandler\t                                           Sends messages to a designated email address.\n",
    "\n",
    "SysLogHandler\t                                       Sends messages to a Unix Syslogthe  daemon, possibly on a remote machine.\n",
    "\n",
    "NTEventLogHandler\t                                   Sends messages to a Windows NT/2000/XP event log.\n",
    "\n",
    "MemoryHandler\t                                       Sends messages to a buffer in memory, which is flushed whenever specific criteria are met.\n",
    "\n",
    "HTTPHandler\t                                           Sends messages to an HTTP server using either GET or POST semantics.\n",
    "\n",
    "WatchedFileHandler\t                                   Watches the file it is logging to. If the file changes, it is closed and reopened using the file name.\n",
    "\n",
    "QueueHandler\t                                       Sends messages to a queue, such as those implemented in the queue or multiprocessing modules.\n",
    "\n",
    "NullHandler\t                                           Does nothing with error messages. Used by library developers to avoid ‘No handlers could be found for logger’ message."
   ]
  },
  {
   "cell_type": "markdown",
   "metadata": {},
   "source": [
    "Python Logging Basics\n",
    "\n",
    "The basics of using the logging module to record the events in a file are very simple.  For that, simply import the module from the library.  \n",
    "\n",
    "Create and configure the logger. It can have several parameters. But importantly, pass the name of the file in which you want to record the events.\n",
    "\n",
    "Here the format of the logger can also be set. By default, the file works in append mode but we can change that to write mode if required.\n",
    "\n",
    "Also, the level of the logger can be set which acts as the threshold for tracking based on the numeric values assigned to each level. \n",
    "\n",
    "There are several attributes that can be passed as parameters.\n",
    "\n",
    "The list of all those parameters is given in Python Library. The user can choose the required attribute according to the requirement.\n",
    "\n",
    "https://docs.python.org/3/library/logging.html#logrecord-attributes"
   ]
  },
  {
   "cell_type": "markdown",
   "metadata": {},
   "source": []
  },
  {
   "cell_type": "code",
   "execution_count": 1,
   "metadata": {},
   "outputs": [],
   "source": [
    "import logging"
   ]
  },
  {
   "cell_type": "markdown",
   "metadata": {},
   "source": [
    "The output shows the severity level before each message along with root, which is the name the logging module gives to its default logger. (Loggers are discussed in detail in later sections.) This format, which shows the level, name, and message separated by a colon (:), is the default output format that can be configured to include things like timestamp, line number, and other details.\n"
   ]
  },
  {
   "cell_type": "markdown",
   "metadata": {},
   "source": [
    "Notice that the debug() and info() messages didn’t get logged. This is because, by default, the logging module logs the messages with a severity level of INFO or above. You can change that by configuring the logging module to log events of all levels if you want. You can also define your own severity levels by changing configurations, but it is generally not recommended as it can cause confusion with logs of some third-party libraries that you might be using."
   ]
  },
  {
   "cell_type": "code",
   "execution_count": 2,
   "metadata": {},
   "outputs": [],
   "source": [
    "logging.basicConfig(filename = \"test.log\", level = logging.INFO)"
   ]
  },
  {
   "cell_type": "code",
   "execution_count": 3,
   "metadata": {},
   "outputs": [],
   "source": [
    "logging.info(\"Information Message!, Filename is Test.Log \")"
   ]
  },
  {
   "cell_type": "code",
   "execution_count": 4,
   "metadata": {},
   "outputs": [],
   "source": [
    "logging.error(\"Writing error message into the file\")"
   ]
  },
  {
   "cell_type": "code",
   "execution_count": 10,
   "metadata": {},
   "outputs": [],
   "source": [
    "logging.critical(\"Writing critical message in the file.\")"
   ]
  },
  {
   "cell_type": "code",
   "execution_count": 6,
   "metadata": {},
   "outputs": [],
   "source": [
    "logging.debug(\"Writing debugging message in the file.\")"
   ]
  },
  {
   "cell_type": "code",
   "execution_count": 7,
   "metadata": {},
   "outputs": [],
   "source": [
    "logging.warning(\"Writing warning message in the file.\")"
   ]
  },
  {
   "cell_type": "code",
   "execution_count": 8,
   "metadata": {},
   "outputs": [
    {
     "ename": "TypeError",
     "evalue": "'int' object is not callable",
     "output_type": "error",
     "traceback": [
      "\u001b[1;31m---------------------------------------------------------------------------\u001b[0m",
      "\u001b[1;31mTypeError\u001b[0m                                 Traceback (most recent call last)",
      "Input \u001b[1;32mIn [8]\u001b[0m, in \u001b[0;36m<cell line: 1>\u001b[1;34m()\u001b[0m\n\u001b[1;32m----> 1\u001b[0m \u001b[43mlogging\u001b[49m\u001b[38;5;241;43m.\u001b[39;49m\u001b[43mNOTSET\u001b[49m\u001b[43m(\u001b[49m\u001b[38;5;124;43m\"\u001b[39;49m\u001b[38;5;124;43mWriting NOTSET message in the file.\u001b[39;49m\u001b[38;5;124;43m\"\u001b[39;49m\u001b[43m)\u001b[49m\n",
      "\u001b[1;31mTypeError\u001b[0m: 'int' object is not callable"
     ]
    }
   ],
   "source": [
    "logging.NOTSET(\"Writing NOTSET message in the file.\")"
   ]
  },
  {
   "cell_type": "markdown",
   "metadata": {},
   "source": [
    "LEVELS/HIERARCHY of LOGGING IN THE PYTHON are as follows:\n",
    "\n",
    "1. NOTSET\n",
    "\n",
    "2. DEBUG\n",
    "\n",
    "3. INFO\n",
    "\n",
    "4. WARNING\n",
    "\n",
    "5. ERROR\n",
    "\n",
    "6. CRITICAL"
   ]
  },
  {
   "cell_type": "code",
   "execution_count": 9,
   "metadata": {},
   "outputs": [],
   "source": [
    "logging.shutdown() # "
   ]
  },
  {
   "cell_type": "markdown",
   "metadata": {},
   "source": [
    "Basic Configurations"
   ]
  },
  {
   "cell_type": "markdown",
   "metadata": {},
   "source": [
    "Some of the commonly used parameters for basicConfig() are the following:\n",
    "\n",
    "level: The root logger will be set to the specified severity level.\n",
    "\n",
    "filename: This specifies the file.\n",
    "\n",
    "filemode: If filename is given, the file is opened in this mode. The default is a, which means append.\n",
    "\n",
    "format: This is the format of the log message."
   ]
  },
  {
   "cell_type": "markdown",
   "metadata": {},
   "source": [
    "Similarly, for logging to a file rather than the console, filename and filemode can be used, and you can decide the format of the message using format. The following example shows the usage of all three:"
   ]
  },
  {
   "cell_type": "code",
   "execution_count": 1,
   "metadata": {},
   "outputs": [],
   "source": [
    "import logging\n",
    "\n",
    "logging.basicConfig(filename='app.log', filemode='w', format='%(name)s - %(levelname)s - %(message)s')\n",
    "logging.warning('This will get logged to a file')"
   ]
  },
  {
   "cell_type": "markdown",
   "metadata": {},
   "source": [
    "The message will look like this but will be written to a file named app.log instead of the console. The filemode is set to w, which means the log file is opened in “write mode” each time basicConfig() is called, and each run of the program will rewrite the file. The default configuration for filemode is a, which is append.\n",
    "\n",
    "You can customize the root logger even further by using more parameters for basicConfig(), which can be found here."
   ]
  },
  {
   "cell_type": "markdown",
   "metadata": {},
   "source": [
    "It should be noted that calling basicConfig() to configure the root logger works only if the root logger has not been configured before. Basically, this function can only be called once."
   ]
  },
  {
   "cell_type": "markdown",
   "metadata": {},
   "source": [
    "debug(), info(), warning(), error(), and critical() also call basicConfig() without arguments automatically if it has not been called before. This means that after the first time one of the above functions is called, you can no longer configure the root logger because they would have called the basicConfig() function internally."
   ]
  },
  {
   "cell_type": "markdown",
   "metadata": {},
   "source": [
    "Formatting the Output\n",
    "\n",
    "While you can pass any variable that can be represented as a string from your program as a message to your logs, there are some basic elements that are already a part of the LogRecord and can be easily added to the output format. If you want to log the process ID along with the level and message, you can do something like this:"
   ]
  },
  {
   "cell_type": "code",
   "execution_count": 1,
   "metadata": {},
   "outputs": [
    {
     "name": "stderr",
     "output_type": "stream",
     "text": [
      "5208-WARNING-This is a Warning\n"
     ]
    }
   ],
   "source": [
    "import logging\n",
    "\n",
    "logging.basicConfig(format='%(process)d-%(levelname)s-%(message)s')\n",
    "logging.warning('This is a Warning')"
   ]
  },
  {
   "cell_type": "markdown",
   "metadata": {},
   "source": [
    "format can take a string with LogRecord attributes in any arrangement you like. The entire list of available attributes can be found on https://docs.python.org/3/library/logging.html#logrecord-attributes"
   ]
  },
  {
   "cell_type": "code",
   "execution_count": 1,
   "metadata": {},
   "outputs": [
    {
     "name": "stderr",
     "output_type": "stream",
     "text": [
      "2024-04-15 15:38:58,250 - Admin logged in\n"
     ]
    }
   ],
   "source": [
    "import logging\n",
    "\n",
    "logging.basicConfig(format='%(asctime)s - %(message)s', level=logging.INFO)\n",
    "logging.info('Admin logged in')"
   ]
  },
  {
   "cell_type": "markdown",
   "metadata": {},
   "source": [
    "%(asctime)s adds the time of creation of the LogRecord. The format can be changed using the datefmt attribute, which uses the same formatting language as the formatting functions in the datetime module, such as time.strftime():\n",
    "\n",
    "https://docs.python.org/3/library/datetime.html#strftime-and-strptime-behavior"
   ]
  },
  {
   "cell_type": "code",
   "execution_count": 6,
   "metadata": {},
   "outputs": [
    {
     "name": "stderr",
     "output_type": "stream",
     "text": [
      "2024-04-15 15:42:55,406 - Admin logged out\n"
     ]
    }
   ],
   "source": [
    "import logging\n",
    "\n",
    "logging.basicConfig(format='%(asctime)s - %(message)s', datefmt='%y-%B-%d %H:%M:%S')\n",
    "logging.warning('Admin logged out')"
   ]
  },
  {
   "cell_type": "code",
   "execution_count": 1,
   "metadata": {},
   "outputs": [],
   "source": [
    "import logging \n",
    "\n",
    "FORMAT = \"%(asctime)s-%(message)s\"\n",
    "\n",
    "logging.basicConfig(format=FORMAT,level=logging.INFO,datefmt='%Y-%B-%d %H:%M:%S')\n"
   ]
  },
  {
   "cell_type": "code",
   "execution_count": 2,
   "metadata": {},
   "outputs": [
    {
     "name": "stderr",
     "output_type": "stream",
     "text": [
      "2024-April-15 15:48:41-Just a random string...\n"
     ]
    }
   ],
   "source": [
    "logging.info('Just a random string...')"
   ]
  },
  {
   "cell_type": "markdown",
   "metadata": {},
   "source": [
    "Logging Variable Data\n"
   ]
  },
  {
   "cell_type": "markdown",
   "metadata": {},
   "source": [
    "The logging functions take a string as an argument, and it might seem natural to format a string with variable data in a separate line and pass it to the log function. But this can actually be done directly by using a format string for the message and appending the variable data as arguments."
   ]
  },
  {
   "cell_type": "code",
   "execution_count": 3,
   "metadata": {},
   "outputs": [
    {
     "name": "stderr",
     "output_type": "stream",
     "text": [
      "2024-April-15 15:56:29-John raised an error\n"
     ]
    }
   ],
   "source": [
    "import logging\n",
    "\n",
    "name = 'John'\n",
    "\n",
    "logging.error('%s raised an error', name)"
   ]
  },
  {
   "cell_type": "markdown",
   "metadata": {},
   "source": [
    "We pass the string \"%s raised an error\" as the first argument to logging.error(). The string uses the %s placeholder that allows Python to interpolate a string value in its place.\n",
    "\n",
    "As a second argument, you pass the variable value, name, which logging.error() will interpolate into the message string.\n",
    "\n",
    "It’s better to use this approach over formatting the string separately, for example with an f-string, and then passing it to the logging function.\n",
    "\n",
    "The lazy evaluation of the modulo string formatting approach can avoid performance overhead when you’re logging many values at specific logging levels that you may not always want to show."
   ]
  },
  {
   "cell_type": "markdown",
   "metadata": {},
   "source": [
    "Capturing Stack Traces\n",
    "\n",
    "The logging module also allows you to capture the full stack traces in an application. Exception information can be captured if the exc_info parameter is passed as True, and the logging functions are called like this:"
   ]
  },
  {
   "cell_type": "code",
   "execution_count": 4,
   "metadata": {},
   "outputs": [
    {
     "name": "stderr",
     "output_type": "stream",
     "text": [
      "2024-April-15 15:58:02-Exception occurred\n",
      "Traceback (most recent call last):\n",
      "  File \"C:\\Users\\goeld\\AppData\\Local\\Temp\\ipykernel_6632\\1673112338.py\", line 7, in <cell line: 6>\n",
      "    c = a / b\n",
      "ZeroDivisionError: division by zero\n"
     ]
    }
   ],
   "source": [
    "import logging\n",
    "\n",
    "a = 5\n",
    "b = 0\n",
    "\n",
    "try:\n",
    "  c = a / b\n",
    "except Exception as e:\n",
    "  logging.error(\"Exception occurred\", exc_info=True)"
   ]
  },
  {
   "cell_type": "markdown",
   "metadata": {},
   "source": [
    "If exc_info is not set to True, the output of the above program would not tell us anything about the exception, which, in a real-world scenario, might not be as simple as a ZeroDivisionError. Imagine trying to debug an error in a complicated codebase with a log that shows only this:"
   ]
  },
  {
   "cell_type": "code",
   "execution_count": 5,
   "metadata": {},
   "outputs": [
    {
     "name": "stderr",
     "output_type": "stream",
     "text": [
      "2024-April-15 15:58:55-Exception occurred\n"
     ]
    }
   ],
   "source": [
    "a = 5\n",
    "b = 0\n",
    "\n",
    "try:\n",
    "  c = a / b\n",
    "except Exception as e:\n",
    "  logging.error(\"Exception occurred\", exc_info=False)"
   ]
  },
  {
   "cell_type": "markdown",
   "metadata": {},
   "source": [
    "Here’s a quick tip: if you’re logging from an exception handler, use the logging.exception() function, which logs a message with level ERROR and adds exception information to the message. To put it more simply, calling logging.exception() is like calling logging.error(exc_info=True). But since this function always dumps exception information, it should only be called from an exception handler. Take a look at this example:"
   ]
  },
  {
   "cell_type": "code",
   "execution_count": 7,
   "metadata": {},
   "outputs": [
    {
     "name": "stderr",
     "output_type": "stream",
     "text": [
      "2024-April-15 16:00:44-Exception occurred\n",
      "Traceback (most recent call last):\n",
      "  File \"C:\\Users\\goeld\\AppData\\Local\\Temp\\ipykernel_6632\\3860737476.py\", line 6, in <cell line: 5>\n",
      "    c = a / b\n",
      "ZeroDivisionError: division by zero\n"
     ]
    }
   ],
   "source": [
    "import logging\n",
    "\n",
    "a = 5\n",
    "b = 0\n",
    "try:\n",
    "  c = a / b\n",
    "except Exception as e:\n",
    "  logging.exception(\"Exception occurred\") #For reporting exception, we can use logging.exception instead of logging.error"
   ]
  },
  {
   "cell_type": "markdown",
   "metadata": {},
   "source": [
    "Classes and Functions\n",
    "\n",
    "So far, we have seen the default logger named root, which is used by the logging module whenever its functions are called directly like this: logging.debug(). You can (and should) define your own logger by creating an object of the Logger class, especially if your application has multiple modules. Let’s have a look at some of the classes and functions in the module.\n",
    "\n",
    "The most commonly used classes defined in the logging module are the following:\n",
    "\n",
    "Logger: This is the class whose objects will be used in the application code directly to call the functions.\n",
    "\n",
    "LogRecord: Loggers automatically create LogRecord objects that have all the information related to the event being logged, like the name of the logger, the function, the line number, the message, and more.\n",
    "\n",
    "Handler: Handlers send the LogRecord to the required output destination, like the console or a file. Handler is a base for subclasses like StreamHandler, FileHandler, SMTPHandler, HTTPHandler, and more. These subclasses send the logging outputs to corresponding destinations, like sys.stdout or a disk file.\n",
    "\n",
    "Formatter: This is where you specify the format of the output by specifying a string format that lists out the attributes that the output should contain.\n",
    "\n"
   ]
  },
  {
   "cell_type": "markdown",
   "metadata": {},
   "source": [
    "Out of these, we mostly deal with the objects of the Logger class, which are instantiated using the module-level function logging.getLogger(name). Multiple calls to getLogger() with the same name will return a reference to the same Logger object, which saves us from passing the logger objects to every part where it’s needed. Here’s an example:"
   ]
  },
  {
   "cell_type": "code",
   "execution_count": 8,
   "metadata": {},
   "outputs": [
    {
     "name": "stderr",
     "output_type": "stream",
     "text": [
      "2024-April-15 16:54:25-This is a warning\n"
     ]
    }
   ],
   "source": [
    "import logging\n",
    "\n",
    "logger = logging.getLogger('example_logger')\n",
    "logger.warning('This is a warning')"
   ]
  },
  {
   "cell_type": "markdown",
   "metadata": {},
   "source": [
    "Using Handlers\n"
   ]
  },
  {
   "cell_type": "markdown",
   "metadata": {},
   "source": [
    "Handlers come into the picture when you want to configure your own loggers and send the logs to multiple places when they are generated. Handlers send the log messages to configured destinations like the standard output stream or a file or over HTTP or to your email via SMTP.\n",
    "\n",
    "A logger that you create can have more than one handler, which means you can set it up to be saved to a log file and also send it over email.\n",
    "\n",
    "Like loggers, you can also set the severity level in handlers. This is useful if you want to set multiple handlers for the same logger but want different severity levels for each of them. For example, you may want logs with level WARNING and above to be logged to the console, but everything with level ERROR and above should also be saved to a file. Here’s a program that does that:"
   ]
  },
  {
   "cell_type": "code",
   "execution_count": 9,
   "metadata": {},
   "outputs": [
    {
     "name": "stderr",
     "output_type": "stream",
     "text": [
      "__main__ - WARNING - This is a warning\n",
      "2024-April-15 16:57:32-This is a warning\n",
      "__main__ - ERROR - This is an error\n",
      "2024-April-15 16:57:32-This is an error\n"
     ]
    }
   ],
   "source": [
    "# logging_example.py\n",
    "\n",
    "import logging\n",
    "\n",
    "# Create a custom logger\n",
    "logger = logging.getLogger(__name__)\n",
    "\n",
    "# Create handlers\n",
    "c_handler = logging.StreamHandler()\n",
    "f_handler = logging.FileHandler('file.log')\n",
    "c_handler.setLevel(logging.WARNING)\n",
    "f_handler.setLevel(logging.ERROR)\n",
    "\n",
    "# Create formatters and add it to handlers\n",
    "c_format = logging.Formatter('%(name)s - %(levelname)s - %(message)s')\n",
    "f_format = logging.Formatter('%(asctime)s - %(name)s - %(levelname)s - %(message)s')\n",
    "c_handler.setFormatter(c_format)\n",
    "f_handler.setFormatter(f_format)\n",
    "\n",
    "# Add handlers to the logger\n",
    "logger.addHandler(c_handler)\n",
    "logger.addHandler(f_handler)\n",
    "\n",
    "logger.warning('This is a warning')\n",
    "logger.error('This is an error')"
   ]
  },
  {
   "cell_type": "markdown",
   "metadata": {},
   "source": [
    "Here, logger.warning() is creating a LogRecord that holds all the information of the event and passing it to all the Handlers that it has: c_handler and f_handler.\n",
    "\n",
    "c_handler is a StreamHandler with level WARNING and takes the info from the LogRecord to generate an output in the format specified and prints it to the console. f_handler is a FileHandler with level ERROR, and it ignores this LogRecord as its level is WARNING.\n",
    "\n",
    "When logger.error() is called, c_handler behaves exactly as before, and f_handler gets a LogRecord at the level of ERROR, so it proceeds to generate an output just like c_handler, but instead of printing it to console, it writes it to the specified file."
   ]
  },
  {
   "cell_type": "markdown",
   "metadata": {},
   "source": [
    "The name of the logger corresponding to the __name__ variable is logged as __main__, which is the name Python assigns to the module where execution starts. If this file is imported by some other module, then the __name__ variable would correspond to its name logging_example."
   ]
  },
  {
   "cell_type": "markdown",
   "metadata": {},
   "source": [
    "Other Configuration Methods\n",
    "\n",
    "You can configure logging as shown above using the module and class functions or by creating a config file or a dictionary and loading it using fileConfig() or dictConfig() respectively. These are useful in case you want to change your logging configuration in a running application.\n",
    "\n"
   ]
  },
  {
   "cell_type": "code",
   "execution_count": 1,
   "metadata": {},
   "outputs": [
    {
     "name": "stdout",
     "output_type": "stream",
     "text": [
      "2024-04-15 17:14:32,776 - __main__ - DEBUG - This is a debug message\n"
     ]
    }
   ],
   "source": [
    "import logging\n",
    "import logging.config\n",
    "\n",
    "logging.config.fileConfig(fname='config.ini', disable_existing_loggers=True)\n",
    "\n",
    "# Get the logger specified in the file\n",
    "logger = logging.getLogger(__name__)\n",
    "\n",
    "logger.debug('This is a debug message')"
   ]
  },
  {
   "cell_type": "code",
   "execution_count": 1,
   "metadata": {},
   "outputs": [
    {
     "name": "stdout",
     "output_type": "stream",
     "text": [
      "2024-04-15 17:28:33,794 - __main__ - DEBUG - This is a debug message\n"
     ]
    }
   ],
   "source": [
    "import logging\n",
    "import logging.config\n",
    "import yaml\n",
    "\n",
    "with open('config.yaml', 'r') as f:\n",
    "    config = yaml.safe_load(f.read())\n",
    "    logging.config.dictConfig(config)\n",
    "\n",
    "logger = logging.getLogger(__name__)\n",
    "\n",
    "logger.debug('This is a debug message')"
   ]
  },
  {
   "cell_type": "code",
   "execution_count": 2,
   "metadata": {},
   "outputs": [],
   "source": [
    "import logging\n",
    "\n",
    "logging.basicConfig(filename = \"check1.log\", level = logging.DEBUG, format = '%(asctime)s %(message)s')"
   ]
  },
  {
   "cell_type": "code",
   "execution_count": 4,
   "metadata": {},
   "outputs": [],
   "source": [
    "logging.warning(\"This is a warning message\")"
   ]
  },
  {
   "cell_type": "code",
   "execution_count": 5,
   "metadata": {},
   "outputs": [],
   "source": [
    "logging.debug(\"This is a debug message\")"
   ]
  },
  {
   "cell_type": "code",
   "execution_count": 6,
   "metadata": {},
   "outputs": [],
   "source": [
    "logging.error(\"This is an error message\")"
   ]
  },
  {
   "cell_type": "code",
   "execution_count": 7,
   "metadata": {},
   "outputs": [],
   "source": [
    "logging.shutdown() # To shutdown the logs into the file."
   ]
  },
  {
   "cell_type": "code",
   "execution_count": 2,
   "metadata": {},
   "outputs": [],
   "source": [
    "import logging\n",
    "logging.basicConfig(filename = \"check1.log\", level = logging.DEBUG, format = '%(asctime)s %(name)s %(levelname)s  %(message)s')"
   ]
  },
  {
   "cell_type": "code",
   "execution_count": 3,
   "metadata": {},
   "outputs": [],
   "source": [
    "logging.warning(\"This is a warning message\")"
   ]
  },
  {
   "cell_type": "code",
   "execution_count": 4,
   "metadata": {},
   "outputs": [],
   "source": [
    "logging.debug(\"This is a debug message\")"
   ]
  },
  {
   "cell_type": "code",
   "execution_count": 5,
   "metadata": {},
   "outputs": [],
   "source": [
    "logging.error(\"This is an error message\")"
   ]
  },
  {
   "cell_type": "code",
   "execution_count": 8,
   "metadata": {},
   "outputs": [],
   "source": [
    "list1 = [[1,2,3,4], (\"varun\", \"deepika\", \"neha\"), 9,8,7,6]"
   ]
  },
  {
   "cell_type": "code",
   "execution_count": 27,
   "metadata": {},
   "outputs": [
    {
     "name": "stdout",
     "output_type": "stream",
     "text": [
      "[1, 2, 3, 4]\n",
      "('varun', 'deepika', 'neha')\n",
      "9\n",
      "8\n",
      "7\n",
      "6\n"
     ]
    }
   ],
   "source": [
    "l2 = []\n",
    "l3 = []\n",
    "for i in list1:\n",
    "    logging.info(\"this is the start of my first for loop {}\".format(list1))\n",
    "    logging.info(\"this is the value of i am logging {}\".format(i))\n",
    "    if type(i) == int:\n",
    "        l2.append(i)\n",
    "    print(i)\n",
    "    if type(i) == list:\n",
    "        for j in i:\n",
    "            logging.info(\"this is the value of j {j} and i is {i}\".format(i = i, j = j))\n",
    "            if type(j) == int:\n",
    "                l2.append(j)\n",
    "    elif type(i) == tuple:\n",
    "        for j in i:\n",
    "            if type(j) == str:\n",
    "                l3.append(j)\n",
    "            \n",
    "logging.info(\"this is the value of my integer list {l2} and string list {l3}\".format(l2 = l2, l3 = l3))"
   ]
  },
  {
   "cell_type": "code",
   "execution_count": 20,
   "metadata": {},
   "outputs": [
    {
     "data": {
      "text/plain": [
       "[1, 2, 3, 4, 9, 8, 7, 6]"
      ]
     },
     "execution_count": 20,
     "metadata": {},
     "output_type": "execute_result"
    }
   ],
   "source": [
    "l2"
   ]
  },
  {
   "cell_type": "code",
   "execution_count": 21,
   "metadata": {},
   "outputs": [
    {
     "data": {
      "text/plain": [
       "['varun', 'deepika', 'neha']"
      ]
     },
     "execution_count": 21,
     "metadata": {},
     "output_type": "execute_result"
    }
   ],
   "source": [
    "l3"
   ]
  },
  {
   "cell_type": "code",
   "execution_count": 7,
   "metadata": {},
   "outputs": [],
   "source": [
    "logging.error(\"%s This is an error message\", list1)"
   ]
  },
  {
   "cell_type": "code",
   "execution_count": null,
   "metadata": {},
   "outputs": [],
   "source": []
  }
 ],
 "metadata": {
  "kernelspec": {
   "display_name": "Python 3",
   "language": "python",
   "name": "python3"
  },
  "language_info": {
   "codemirror_mode": {
    "name": "ipython",
    "version": 3
   },
   "file_extension": ".py",
   "mimetype": "text/x-python",
   "name": "python",
   "nbconvert_exporter": "python",
   "pygments_lexer": "ipython3",
   "version": "3.8.8"
  }
 },
 "nbformat": 4,
 "nbformat_minor": 2
}
