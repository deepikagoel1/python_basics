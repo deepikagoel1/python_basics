{
 "cells": [
  {
   "cell_type": "markdown",
   "metadata": {},
   "source": [
    "What is multiprocessing?\n",
    "\n",
    "Multiprocessing refers to the ability of a system to support more than one processor at the same time. Applications in a multiprocessing system are broken to smaller routines that run independently. The operating system allocates these threads to the processors improving performance of the system."
   ]
  },
  {
   "cell_type": "markdown",
   "metadata": {},
   "source": [
    "Why multiprocessing?\n",
    "\n",
    "Consider a computer system with a single processor. If it is assigned several processes at the same time, it will have to interrupt each task and switch briefly to another, to keep all of the processes going.\n",
    "This situation is just like a chef working in a kitchen alone. He has to do several tasks like baking, stirring, kneading dough, etc.\n",
    "\n",
    "So the gist is that: The more tasks you must do at once, the more difficult it gets to keep track of them all, and keeping the timing right becomes more of a challenge.\n",
    "This is where the concept of multiprocessing arises!\n",
    "A multiprocessing system can have:\n",
    "\n",
    "multiprocessor, i.e. a computer with more than one central processor.\n",
    "multi-core processor, i.e. a single computing component with two or more independent actual processing units (called “cores”).\n",
    "Here, the CPU can easily executes several tasks at once, with each task using its own processor.\n",
    "\n",
    "It is just like the chef in last situation being assisted by his assistants. Now, they can divide the tasks among themselves and chef doesn’t need to switch between his tasks."
   ]
  },
  {
   "cell_type": "markdown",
   "metadata": {},
   "source": [
    "Multiprocessing in Python"
   ]
  },
  {
   "cell_type": "code",
   "execution_count": 1,
   "metadata": {},
   "outputs": [],
   "source": [
    "import multiprocessing"
   ]
  },
  {
   "cell_type": "code",
   "execution_count": 2,
   "metadata": {},
   "outputs": [],
   "source": [
    "def cube(num):\n",
    "    print(\"Cube of a number is \", num*num*num)"
   ]
  },
  {
   "cell_type": "code",
   "execution_count": 3,
   "metadata": {},
   "outputs": [],
   "source": [
    "def square(num):\n",
    "    print(\"Square of a number is \", num*num)"
   ]
  },
  {
   "cell_type": "code",
   "execution_count": 4,
   "metadata": {},
   "outputs": [
    {
     "name": "stdout",
     "output_type": "stream",
     "text": [
      "Done!\n"
     ]
    }
   ],
   "source": [
    "if __name__ == \"__main__\":\n",
    "    p1 = multiprocessing.Process(target = cube, args = (10, ))\n",
    "    # p2 = multiprocessing.Process(target = square, args = (20, ))\n",
    "    p1.start()\n",
    "    # p2.start()\n",
    "    p1.join()\n",
    "    # p2.join()\n",
    "    print(\"Done!\")"
   ]
  },
  {
   "cell_type": "code",
   "execution_count": 1,
   "metadata": {},
   "outputs": [
    {
     "name": "stdout",
     "output_type": "stream",
     "text": [
      "Done!\n"
     ]
    }
   ],
   "source": [
    "# importing the multiprocessing module \n",
    "import multiprocessing \n",
    "\n",
    "def print_cube(num): \n",
    "\t\"\"\" \n",
    "\tfunction to print cube of given num \n",
    "\t\"\"\"\n",
    "\tprint(\"Cube: {}\".format(num * num * num)) \n",
    "\n",
    "def print_square(num): \n",
    "\t\"\"\" \n",
    "\tfunction to print square of given num \n",
    "\t\"\"\"\n",
    "\tprint(\"Square: {}\".format(num * num)) \n",
    "\n",
    "if __name__ == \"__main__\": \n",
    "\t# creating processes \n",
    "\tp1 = multiprocessing.Process(target=print_square, args=(10, )) \n",
    "\tp2 = multiprocessing.Process(target=print_cube, args=(10, )) \n",
    "\n",
    "\t# starting process 1 \n",
    "\tp1.start() \n",
    "\t# starting process 2 \n",
    "\tp2.start() \n",
    "\n",
    "\t# wait until process 1 is finished \n",
    "\tp1.join() \n",
    "\t# wait until process 2 is finished \n",
    "\tp2.join() \n",
    "\n",
    "\t# both processes finished \n",
    "\tprint(\"Done!\") \n"
   ]
  },
  {
   "cell_type": "code",
   "execution_count": 4,
   "metadata": {},
   "outputs": [],
   "source": [
    "p1 = multiprocessing.Process(target = cube, args = (10, ))"
   ]
  },
  {
   "cell_type": "code",
   "execution_count": 5,
   "metadata": {},
   "outputs": [],
   "source": [
    "p2 = multiprocessing.Process(target = square, args = (20, ))"
   ]
  },
  {
   "cell_type": "code",
   "execution_count": 6,
   "metadata": {},
   "outputs": [],
   "source": [
    "p1.start()"
   ]
  },
  {
   "cell_type": "code",
   "execution_count": 7,
   "metadata": {},
   "outputs": [],
   "source": [
    "p2.start()"
   ]
  },
  {
   "cell_type": "code",
   "execution_count": 8,
   "metadata": {},
   "outputs": [],
   "source": [
    "p1.join()"
   ]
  },
  {
   "cell_type": "code",
   "execution_count": 9,
   "metadata": {},
   "outputs": [],
   "source": [
    "p2.join()"
   ]
  },
  {
   "cell_type": "code",
   "execution_count": 8,
   "metadata": {},
   "outputs": [
    {
     "data": {
      "text/plain": [
       "<Process name='Process-1' pid=13552 parent=16368 stopped exitcode=1>"
      ]
     },
     "execution_count": 8,
     "metadata": {},
     "output_type": "execute_result"
    }
   ],
   "source": [
    "p1"
   ]
  },
  {
   "cell_type": "code",
   "execution_count": 3,
   "metadata": {},
   "outputs": [
    {
     "name": "stdout",
     "output_type": "stream",
     "text": [
      "Done in 0.0851 seconds\n"
     ]
    }
   ],
   "source": [
    "import multiprocessing\n",
    "import time\n",
    "\n",
    "def sleepy_man():\n",
    "    print('Starting to sleep')\n",
    "    time.sleep(1)\n",
    "    print('Done sleeping')\n",
    "\n",
    "if __name__ == '__main__':\n",
    "    tic = time.time()\n",
    "    p1 =  multiprocessing.Process(target= sleepy_man)\n",
    "    p2 =  multiprocessing.Process(target= sleepy_man)\n",
    "    p1.start()\n",
    "    p2.start()\n",
    "    p1.join()\n",
    "    p2.join()\n",
    "    toc = time.time()\n",
    "    print('Done in {:.4f} seconds'.format(toc-tic))"
   ]
  },
  {
   "cell_type": "code",
   "execution_count": null,
   "metadata": {},
   "outputs": [],
   "source": []
  },
  {
   "cell_type": "markdown",
   "metadata": {},
   "source": []
  }
 ],
 "metadata": {
  "kernelspec": {
   "display_name": "Python 3",
   "language": "python",
   "name": "python3"
  },
  "language_info": {
   "codemirror_mode": {
    "name": "ipython",
    "version": 3
   },
   "file_extension": ".py",
   "mimetype": "text/x-python",
   "name": "python",
   "nbconvert_exporter": "python",
   "pygments_lexer": "ipython3",
   "version": "3.8.8rc1"
  }
 },
 "nbformat": 4,
 "nbformat_minor": 2
}
