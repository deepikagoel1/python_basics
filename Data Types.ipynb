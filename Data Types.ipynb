{
 "cells": [
  {
   "cell_type": "code",
   "execution_count": 1,
   "id": "9d60399f-83cc-4ab7-92ba-ea8e365b7a8a",
   "metadata": {},
   "outputs": [],
   "source": [
    "tup1 = (\"Hello\",[\"Varun K\"], \"Mysterious Person\", (1), \"Surprised\")"
   ]
  },
  {
   "cell_type": "code",
   "execution_count": 2,
   "id": "4f76f3f3-5884-493d-8137-dc8bce9499a3",
   "metadata": {},
   "outputs": [
    {
     "data": {
      "text/plain": [
       "('Hello', ['Varun K'], 'Mysterious Person', 1, 'Surprised')"
      ]
     },
     "execution_count": 2,
     "metadata": {},
     "output_type": "execute_result"
    }
   ],
   "source": [
    "tup1"
   ]
  },
  {
   "cell_type": "code",
   "execution_count": 3,
   "id": "91041e87-36f7-4b24-9826-187324d0d70f",
   "metadata": {},
   "outputs": [
    {
     "data": {
      "text/plain": [
       "tuple"
      ]
     },
     "execution_count": 3,
     "metadata": {},
     "output_type": "execute_result"
    }
   ],
   "source": [
    "type(tup1)"
   ]
  },
  {
   "cell_type": "code",
   "execution_count": 25,
   "id": "f0047f7a-bab0-406e-b540-e269b0488ee4",
   "metadata": {},
   "outputs": [
    {
     "name": "stdout",
     "output_type": "stream",
     "text": [
      "Hello <class 'str'> \n",
      "\n",
      "['Varun K'] <class 'list'> \n",
      "\n",
      "Mysterious Person <class 'str'> \n",
      "\n",
      "1 <class 'int'> \n",
      "\n",
      "Surprised <class 'str'> \n",
      "\n"
     ]
    }
   ],
   "source": [
    "for i in range(len(tup1)):\n",
    "    print(tup1[i], type(tup1[i]), end = \" \")\n",
    "    print(\"\\n\")"
   ]
  },
  {
   "cell_type": "code",
   "execution_count": 8,
   "id": "771bdc19-c6c9-4445-813f-0a69c10d99a9",
   "metadata": {},
   "outputs": [
    {
     "data": {
      "text/plain": [
       "['Varun K']"
      ]
     },
     "execution_count": 8,
     "metadata": {},
     "output_type": "execute_result"
    }
   ],
   "source": [
    "tup1[1]"
   ]
  },
  {
   "cell_type": "code",
   "execution_count": 13,
   "id": "35908724-7348-4098-be7c-cad8730a5ef7",
   "metadata": {},
   "outputs": [
    {
     "data": {
      "text/plain": [
       "'Varun'"
      ]
     },
     "execution_count": 13,
     "metadata": {},
     "output_type": "execute_result"
    }
   ],
   "source": [
    "tup1[1][0][:5]"
   ]
  },
  {
   "cell_type": "code",
   "execution_count": 19,
   "id": "15695c8f-5e58-4bbe-9f10-c123b19f8314",
   "metadata": {},
   "outputs": [
    {
     "data": {
      "text/plain": [
       "('Hello', ['Varun K'], 'Mysterious Person', 1, 'Surprised')"
      ]
     },
     "execution_count": 19,
     "metadata": {},
     "output_type": "execute_result"
    }
   ],
   "source": [
    "tup1[:]"
   ]
  },
  {
   "cell_type": "code",
   "execution_count": 21,
   "id": "05b4a06c-a01c-4382-bf68-a153b4aae384",
   "metadata": {},
   "outputs": [
    {
     "data": {
      "text/plain": [
       "('Surprised', 1, 'Mysterious Person', ['Varun K'], 'Hello')"
      ]
     },
     "execution_count": 21,
     "metadata": {},
     "output_type": "execute_result"
    }
   ],
   "source": [
    "tup1[: : -1] #Reversing a tuple"
   ]
  },
  {
   "cell_type": "code",
   "execution_count": 22,
   "id": "4c684ffc-061c-466a-869d-93aa896015da",
   "metadata": {},
   "outputs": [
    {
     "ename": "TypeError",
     "evalue": "tuple indices must be integers or slices, not tuple",
     "output_type": "error",
     "traceback": [
      "\u001b[0;31m---------------------------------------------------------------------------\u001b[0m",
      "\u001b[0;31mTypeError\u001b[0m                                 Traceback (most recent call last)",
      "Cell \u001b[0;32mIn[22], line 1\u001b[0m\n\u001b[0;32m----> 1\u001b[0m \u001b[43mtup1\u001b[49m\u001b[43m[\u001b[49m\u001b[43m:\u001b[49m\u001b[43m \u001b[49m\u001b[43m:\u001b[49m\u001b[43m \u001b[49m\u001b[38;5;241;43m-\u001b[39;49m\u001b[38;5;241;43m1\u001b[39;49m\u001b[43m,\u001b[49m\u001b[43m \u001b[49m\u001b[38;5;241;43m2\u001b[39;49m\u001b[43m]\u001b[49m\n",
      "\u001b[0;31mTypeError\u001b[0m: tuple indices must be integers or slices, not tuple"
     ]
    }
   ],
   "source": [
    "tup1[: : -1]"
   ]
  },
  {
   "cell_type": "code",
   "execution_count": 23,
   "id": "74f68762-0464-409c-9e4d-315355739798",
   "metadata": {},
   "outputs": [
    {
     "name": "stdout",
     "output_type": "stream",
     "text": [
      "Surprised\t1\tMysterious Person\t['Varun K']\tHello\t"
     ]
    }
   ],
   "source": [
    "for i in range(1, len(tup1)+1):\n",
    "    print(tup1[-i], end = \"\\t\")"
   ]
  },
  {
   "cell_type": "code",
   "execution_count": 26,
   "id": "b225ad58-fc91-4358-bee7-5afbcdb3666a",
   "metadata": {},
   "outputs": [],
   "source": [
    "t1 = (1, 2, 3, 4, 5)"
   ]
  },
  {
   "cell_type": "code",
   "execution_count": 27,
   "id": "b867d74a-d332-43ea-999d-2dfb91760339",
   "metadata": {},
   "outputs": [
    {
     "data": {
      "text/plain": [
       "(1, 2, 3, 4, 5, 1, 2, 3, 4, 5, 1, 2, 3, 4, 5)"
      ]
     },
     "execution_count": 27,
     "metadata": {},
     "output_type": "execute_result"
    }
   ],
   "source": [
    "t1 * 3"
   ]
  },
  {
   "cell_type": "code",
   "execution_count": 29,
   "id": "8f663641-942a-4806-b299-734df0321af9",
   "metadata": {},
   "outputs": [],
   "source": [
    "t2 = (9,10,11,12,13)"
   ]
  },
  {
   "cell_type": "code",
   "execution_count": 30,
   "id": "9066ed12-5541-4c3a-838a-63e456d1a140",
   "metadata": {},
   "outputs": [
    {
     "data": {
      "text/plain": [
       "(1, 2, 3, 4, 5, 9, 10, 11, 12, 13)"
      ]
     },
     "execution_count": 30,
     "metadata": {},
     "output_type": "execute_result"
    }
   ],
   "source": [
    "t3 = t1 + t2\n",
    "t3"
   ]
  },
  {
   "cell_type": "code",
   "execution_count": 31,
   "id": "be0116a4-2c1b-4917-ba2f-c135e9674d60",
   "metadata": {},
   "outputs": [
    {
     "data": {
      "text/plain": [
       "((1, 2, 3, 4, 5), (9, 10, 11, 12, 13))"
      ]
     },
     "execution_count": 31,
     "metadata": {},
     "output_type": "execute_result"
    }
   ],
   "source": [
    "t4 = (t1, t2)\n",
    "t4"
   ]
  },
  {
   "cell_type": "code",
   "execution_count": 32,
   "id": "2dd9898d-12ee-4997-adc3-1868e8b8a132",
   "metadata": {},
   "outputs": [],
   "source": [
    "del(t4)"
   ]
  },
  {
   "cell_type": "markdown",
   "id": "434255f3-edeb-44c7-a3af-d33bd18933d8",
   "metadata": {},
   "source": [
    "SETS"
   ]
  },
  {
   "cell_type": "code",
   "execution_count": 33,
   "id": "ce64bb7e-45b4-46ab-8105-ccc241c22226",
   "metadata": {},
   "outputs": [
    {
     "data": {
      "text/plain": [
       "dict"
      ]
     },
     "execution_count": 33,
     "metadata": {},
     "output_type": "execute_result"
    }
   ],
   "source": [
    "s1 = {}\n",
    "type(s1)"
   ]
  },
  {
   "cell_type": "code",
   "execution_count": 34,
   "id": "47cfa965-e17a-48ce-ad70-885af5b07917",
   "metadata": {},
   "outputs": [],
   "source": [
    "s2 = {1,2,3,3,4,5,6,1,2,3}"
   ]
  },
  {
   "cell_type": "code",
   "execution_count": 35,
   "id": "a0c6b4e4-637d-422e-b37d-3e19b0732fc6",
   "metadata": {},
   "outputs": [
    {
     "data": {
      "text/plain": [
       "{1, 2, 3, 4, 5, 6}"
      ]
     },
     "execution_count": 35,
     "metadata": {},
     "output_type": "execute_result"
    }
   ],
   "source": [
    "s2"
   ]
  },
  {
   "cell_type": "code",
   "execution_count": 36,
   "id": "087e6b9c-1477-4ecf-9fc9-45e063aa6050",
   "metadata": {},
   "outputs": [
    {
     "data": {
      "text/plain": [
       "set"
      ]
     },
     "execution_count": 36,
     "metadata": {},
     "output_type": "execute_result"
    }
   ],
   "source": [
    "type(s2)"
   ]
  },
  {
   "cell_type": "code",
   "execution_count": 41,
   "id": "c36c644a-afea-4e80-9f66-f5ae4bbdbc2b",
   "metadata": {},
   "outputs": [
    {
     "ename": "TypeError",
     "evalue": "unhashable type: 'list'",
     "output_type": "error",
     "traceback": [
      "\u001b[0;31m---------------------------------------------------------------------------\u001b[0m",
      "\u001b[0;31mTypeError\u001b[0m                                 Traceback (most recent call last)",
      "Cell \u001b[0;32mIn[41], line 1\u001b[0m\n\u001b[0;32m----> 1\u001b[0m s3 \u001b[38;5;241m=\u001b[39m {(\u001b[38;5;241m1\u001b[39m,\u001b[38;5;241m2\u001b[39m,\u001b[38;5;241m3\u001b[39m,\u001b[38;5;241m4\u001b[39m), \u001b[38;5;124m\"\u001b[39m\u001b[38;5;124mLife is Mysterious\u001b[39m\u001b[38;5;124m\"\u001b[39m, [\u001b[38;5;124m\"\u001b[39m\u001b[38;5;124mUnexpected\u001b[39m\u001b[38;5;124m\"\u001b[39m, \u001b[38;5;124m\"\u001b[39m\u001b[38;5;124mhappen\u001b[39m\u001b[38;5;124m\"\u001b[39m], \u001b[38;5;28;01mTrue\u001b[39;00m, \u001b[38;5;241m3.45\u001b[39m}\n",
      "\u001b[0;31mTypeError\u001b[0m: unhashable type: 'list'"
     ]
    }
   ],
   "source": [
    "s3 = {(1,2,3,4), \"Life is Mysterious\", [\"Unexpected\", \"happen\"], True, 3.45}"
   ]
  },
  {
   "cell_type": "code",
   "execution_count": 1,
   "id": "594fe23a-b75c-4544-ae76-24072091314a",
   "metadata": {},
   "outputs": [],
   "source": [
    "s3 = {(1,2,3,4), \"Life is Mysterious\", True, 3.45,}"
   ]
  },
  {
   "cell_type": "code",
   "execution_count": 2,
   "id": "655e643f-526b-4b68-b1f3-9d751add9ad8",
   "metadata": {},
   "outputs": [
    {
     "data": {
      "text/plain": [
       "{(1, 2, 3, 4), 3.45, 'Life is Mysterious', True}"
      ]
     },
     "execution_count": 2,
     "metadata": {},
     "output_type": "execute_result"
    }
   ],
   "source": [
    "s3"
   ]
  },
  {
   "cell_type": "code",
   "execution_count": 3,
   "id": "c79afb73-01b6-4138-981a-238b8070788d",
   "metadata": {},
   "outputs": [
    {
     "ename": "TypeError",
     "evalue": "'set' object is not subscriptable",
     "output_type": "error",
     "traceback": [
      "\u001b[0;31m---------------------------------------------------------------------------\u001b[0m",
      "\u001b[0;31mTypeError\u001b[0m                                 Traceback (most recent call last)",
      "Cell \u001b[0;32mIn[3], line 2\u001b[0m\n\u001b[1;32m      1\u001b[0m \u001b[38;5;28;01mfor\u001b[39;00m i \u001b[38;5;129;01min\u001b[39;00m \u001b[38;5;28mrange\u001b[39m(\u001b[38;5;28mlen\u001b[39m(s3)):\n\u001b[0;32m----> 2\u001b[0m     \u001b[38;5;28mprint\u001b[39m(\u001b[43ms3\u001b[49m\u001b[43m[\u001b[49m\u001b[43mi\u001b[49m\u001b[43m]\u001b[49m)\n",
      "\u001b[0;31mTypeError\u001b[0m: 'set' object is not subscriptable"
     ]
    }
   ],
   "source": [
    "for i in range(len(s3)):\n",
    "    print(s3[i])"
   ]
  },
  {
   "cell_type": "code",
   "execution_count": 4,
   "id": "8971ab07-dfa6-4eee-9b71-66a86850812e",
   "metadata": {},
   "outputs": [
    {
     "name": "stdout",
     "output_type": "stream",
     "text": [
      "(1, 2, 3, 4)\n",
      "True\n",
      "3.45\n",
      "Life is Mysterious\n"
     ]
    }
   ],
   "source": [
    "for i in s3:\n",
    "    print(i)"
   ]
  },
  {
   "cell_type": "code",
   "execution_count": 5,
   "id": "13594f14-ddff-4620-81f7-1866897821f1",
   "metadata": {},
   "outputs": [],
   "source": [
    "s3.add(\"Begining of New Life\")"
   ]
  },
  {
   "cell_type": "code",
   "execution_count": 6,
   "id": "69078e57-a732-4de7-bcfc-88bfad7019d0",
   "metadata": {},
   "outputs": [
    {
     "data": {
      "text/plain": [
       "{(1, 2, 3, 4), 3.45, 'Begining of New Life', 'Life is Mysterious', True}"
      ]
     },
     "execution_count": 6,
     "metadata": {},
     "output_type": "execute_result"
    }
   ],
   "source": [
    "s3"
   ]
  },
  {
   "cell_type": "code",
   "execution_count": 35,
   "id": "a3cb1bfb-a29b-4b27-9a4c-f068b824ebc9",
   "metadata": {},
   "outputs": [
    {
     "data": {
      "text/plain": [
       "'Life is Mysterious'"
      ]
     },
     "execution_count": 35,
     "metadata": {},
     "output_type": "execute_result"
    }
   ],
   "source": [
    "s3.pop() #It pops out the element dynamically without sequence based on the hashing it has created."
   ]
  },
  {
   "cell_type": "code",
   "execution_count": 34,
   "id": "e258ded5-4667-4d64-972b-673410784630",
   "metadata": {},
   "outputs": [
    {
     "data": {
      "text/plain": [
       "'Begining of New Life'"
      ]
     },
     "execution_count": 34,
     "metadata": {},
     "output_type": "execute_result"
    }
   ],
   "source": [
    "s3.pop()"
   ]
  },
  {
   "cell_type": "code",
   "execution_count": 10,
   "id": "db52ca30-22d0-444f-ad7d-ec3fb61df3e2",
   "metadata": {},
   "outputs": [
    {
     "data": {
      "text/plain": [
       "{(1, 2, 3, 4), 3.45, 'Begining of New Life', 'Life is Mysterious'}"
      ]
     },
     "execution_count": 10,
     "metadata": {},
     "output_type": "execute_result"
    }
   ],
   "source": [
    "s3"
   ]
  },
  {
   "cell_type": "code",
   "execution_count": 11,
   "id": "d9000344-1311-4c0d-96ca-2d48c0254bea",
   "metadata": {},
   "outputs": [],
   "source": [
    "s3.remove(3.45) #remove method removes a particular element from the set."
   ]
  },
  {
   "cell_type": "code",
   "execution_count": 12,
   "id": "e75be503-f569-4325-b015-fc68f08d5025",
   "metadata": {},
   "outputs": [
    {
     "data": {
      "text/plain": [
       "{(1, 2, 3, 4), 'Begining of New Life', 'Life is Mysterious'}"
      ]
     },
     "execution_count": 12,
     "metadata": {},
     "output_type": "execute_result"
    }
   ],
   "source": [
    "s3"
   ]
  },
  {
   "cell_type": "code",
   "execution_count": 13,
   "id": "958e9637-79cf-4ceb-b985-e23e7ed4530a",
   "metadata": {},
   "outputs": [],
   "source": [
    "s4 = {67, 98, 110.10, \"Life is changable\", True}"
   ]
  },
  {
   "cell_type": "code",
   "execution_count": 16,
   "id": "bd811a5b-53b2-4ad4-8f39-211f1c462ec6",
   "metadata": {},
   "outputs": [],
   "source": [
    "s5 = s3.difference(s4) # Difference method takes all the elements of a set over which it is applied instead of taking elements from the set which is passed as an argument inside the difference method."
   ]
  },
  {
   "cell_type": "code",
   "execution_count": 17,
   "id": "443aa8c2-610d-477f-accd-bfec183e0d34",
   "metadata": {},
   "outputs": [
    {
     "data": {
      "text/plain": [
       "{(1, 2, 3, 4), 'Begining of New Life', 'Life is Mysterious'}"
      ]
     },
     "execution_count": 17,
     "metadata": {},
     "output_type": "execute_result"
    }
   ],
   "source": [
    "s5"
   ]
  },
  {
   "cell_type": "code",
   "execution_count": 18,
   "id": "59827e08-94f7-488b-af26-e265ae462a81",
   "metadata": {},
   "outputs": [],
   "source": [
    "s5 = s3.copy()"
   ]
  },
  {
   "cell_type": "code",
   "execution_count": 19,
   "id": "3cb2b09c-bcb1-41b4-a5cc-c1ef632dcd50",
   "metadata": {},
   "outputs": [
    {
     "data": {
      "text/plain": [
       "{(1, 2, 3, 4), 'Begining of New Life', 'Life is Mysterious'}"
      ]
     },
     "execution_count": 19,
     "metadata": {},
     "output_type": "execute_result"
    }
   ],
   "source": [
    "s5"
   ]
  },
  {
   "cell_type": "code",
   "execution_count": 20,
   "id": "402d365b-f288-4a6f-a350-ab12b886a968",
   "metadata": {},
   "outputs": [],
   "source": [
    "s5 = s3.difference_update(s4) # original set gets updated with difference applied to the set."
   ]
  },
  {
   "cell_type": "code",
   "execution_count": 21,
   "id": "bdcb6cda-22b6-4d85-8450-946082ad3818",
   "metadata": {},
   "outputs": [],
   "source": [
    "s5"
   ]
  },
  {
   "cell_type": "code",
   "execution_count": 23,
   "id": "71fd969c-581f-4588-89cb-c2adef8bf0b4",
   "metadata": {},
   "outputs": [],
   "source": [
    "s6 = {67, 98, 110.10, \"Life is changable\", True, (1, 2, 3, 4), 3.45}"
   ]
  },
  {
   "cell_type": "code",
   "execution_count": 24,
   "id": "41db2516-ee65-40f4-994a-ce3d01b6bd32",
   "metadata": {},
   "outputs": [
    {
     "data": {
      "text/plain": [
       "{(1, 2, 3, 4), 110.1, 3.45, 67, 98, 'Life is changable', True}"
      ]
     },
     "execution_count": 24,
     "metadata": {},
     "output_type": "execute_result"
    }
   ],
   "source": [
    "s6"
   ]
  },
  {
   "cell_type": "code",
   "execution_count": 25,
   "id": "2cc8007e-fce4-4ab2-b994-2a8c53937297",
   "metadata": {},
   "outputs": [
    {
     "data": {
      "text/plain": [
       "{110.1, 67, 98, 'Life is changable', True}"
      ]
     },
     "execution_count": 25,
     "metadata": {},
     "output_type": "execute_result"
    }
   ],
   "source": [
    "s6.intersection(s4) "
   ]
  },
  {
   "cell_type": "code",
   "execution_count": 27,
   "id": "e941fc4f-4f60-42be-a315-71d8846a6e86",
   "metadata": {},
   "outputs": [],
   "source": [
    "s6.discard(98)"
   ]
  },
  {
   "cell_type": "code",
   "execution_count": 28,
   "id": "6f422a68-e09c-401d-b2ff-a3c847557984",
   "metadata": {},
   "outputs": [
    {
     "data": {
      "text/plain": [
       "{110.1, 67, 'Life is changable', True}"
      ]
     },
     "execution_count": 28,
     "metadata": {},
     "output_type": "execute_result"
    }
   ],
   "source": [
    "s6"
   ]
  },
  {
   "cell_type": "code",
   "execution_count": 29,
   "id": "d0639c5b-ff69-4730-9975-cce2f21d9220",
   "metadata": {},
   "outputs": [],
   "source": [
    "s6.intersection_update(s4) # original set gets updated with intersection applied to the set."
   ]
  },
  {
   "cell_type": "code",
   "execution_count": 30,
   "id": "f700c95c-c8a7-4149-bc45-344fd60e60d6",
   "metadata": {},
   "outputs": [
    {
     "data": {
      "text/plain": [
       "{110.1, 67, 'Life is changable', True}"
      ]
     },
     "execution_count": 30,
     "metadata": {},
     "output_type": "execute_result"
    }
   ],
   "source": [
    "s6"
   ]
  },
  {
   "cell_type": "code",
   "execution_count": 32,
   "id": "fadb315d-55a7-4a2e-ab60-5bfc55fb6fe0",
   "metadata": {},
   "outputs": [],
   "source": [
    "s6.update(\"Mystery\") # Update method updates single string element inside the sets."
   ]
  },
  {
   "cell_type": "code",
   "execution_count": 33,
   "id": "a2f41896-6aa3-48e5-9bdd-86d8516c8e37",
   "metadata": {},
   "outputs": [
    {
     "data": {
      "text/plain": [
       "{110.1, 67, 'Life is changable', 'M', True, 'e', 'r', 's', 't', 'y'}"
      ]
     },
     "execution_count": 33,
     "metadata": {},
     "output_type": "execute_result"
    }
   ],
   "source": [
    "s6"
   ]
  },
  {
   "cell_type": "code",
   "execution_count": 36,
   "id": "baf37717-66d7-4987-a132-7600bec6525f",
   "metadata": {},
   "outputs": [],
   "source": [
    "s6.clear() # It will create an empty set, it will remove all the elements from the set."
   ]
  },
  {
   "cell_type": "code",
   "execution_count": 37,
   "id": "bf73e2f2-415d-4ae0-9530-69da7f78da8c",
   "metadata": {},
   "outputs": [
    {
     "data": {
      "text/plain": [
       "set()"
      ]
     },
     "execution_count": 37,
     "metadata": {},
     "output_type": "execute_result"
    }
   ],
   "source": [
    "s6"
   ]
  },
  {
   "cell_type": "code",
   "execution_count": 38,
   "id": "a352ec49-84a8-4b8e-acab-ceedb88d9694",
   "metadata": {},
   "outputs": [
    {
     "data": {
      "text/plain": [
       "{(1, 2, 3, 4)}"
      ]
     },
     "execution_count": 38,
     "metadata": {},
     "output_type": "execute_result"
    }
   ],
   "source": [
    "s3.difference(s4) "
   ]
  },
  {
   "cell_type": "markdown",
   "id": "4ba1e4fd-39a9-43a7-9d01-9e1ee70743ec",
   "metadata": {},
   "source": [
    "Dictionary"
   ]
  },
  {
   "cell_type": "code",
   "execution_count": 30,
   "id": "c36af9f8-0b97-451e-ab3d-f107fda06d24",
   "metadata": {},
   "outputs": [],
   "source": [
    "d = {\"love\":\"Varun K\", \"life\": [\"new begining\", \"new chapter\", \"must goes on\", \"engaging in the activities\", \"taking breath\"]}"
   ]
  },
  {
   "cell_type": "code",
   "execution_count": 31,
   "id": "48ccbb30-209f-4d3c-b058-b6ae2fb20ab8",
   "metadata": {},
   "outputs": [
    {
     "data": {
      "text/plain": [
       "{'love': 'Varun K',\n",
       " 'life': ['new begining',\n",
       "  'new chapter',\n",
       "  'must goes on',\n",
       "  'engaging in the activities',\n",
       "  'taking breath']}"
      ]
     },
     "execution_count": 31,
     "metadata": {},
     "output_type": "execute_result"
    }
   ],
   "source": [
    "d"
   ]
  },
  {
   "cell_type": "code",
   "execution_count": 32,
   "id": "7139e1a1-d9a6-4a95-aebc-89ef0b6ea9f5",
   "metadata": {},
   "outputs": [
    {
     "data": {
      "text/plain": [
       "'new begining'"
      ]
     },
     "execution_count": 32,
     "metadata": {},
     "output_type": "execute_result"
    }
   ],
   "source": [
    "d[\"life\"][0]"
   ]
  },
  {
   "cell_type": "code",
   "execution_count": 33,
   "id": "954ab9fd-4ebc-43b5-9f33-5bfaeae0227f",
   "metadata": {},
   "outputs": [],
   "source": [
    "emp = {\"name\" : [\"deepika goel\", \"neha\", \"rakhi\", \"Anjily\"], \n",
    "       \"email\" : (\"goeld9911@gmail.com\", \"xyz@gmail.com\", \"abc@gmail.com\", \"ghy@gmail.com\"),\n",
    "       \"mobile_num\" : (\"XXXXXX7080\", \"XXXXXX9876\", \"XXXXXXX3245\", \"XXXXXX6754\")}"
   ]
  },
  {
   "cell_type": "code",
   "execution_count": 34,
   "id": "a7625185-7e01-43b6-850a-60764f180598",
   "metadata": {},
   "outputs": [
    {
     "data": {
      "text/plain": [
       "['deepika goel', 'neha', 'rakhi', 'Anjily']"
      ]
     },
     "execution_count": 34,
     "metadata": {},
     "output_type": "execute_result"
    }
   ],
   "source": [
    "emp[\"name\"]"
   ]
  },
  {
   "cell_type": "code",
   "execution_count": 35,
   "id": "a4438c56-6479-4b68-a5ff-52cb0631acaa",
   "metadata": {},
   "outputs": [
    {
     "data": {
      "text/plain": [
       "dict_keys(['name', 'email', 'mobile_num'])"
      ]
     },
     "execution_count": 35,
     "metadata": {},
     "output_type": "execute_result"
    }
   ],
   "source": [
    "emp.keys()"
   ]
  },
  {
   "cell_type": "code",
   "execution_count": 36,
   "id": "263f6927-0c97-4fd1-b6cf-9a505c9a4d72",
   "metadata": {},
   "outputs": [
    {
     "data": {
      "text/plain": [
       "dict_values([['deepika goel', 'neha', 'rakhi', 'Anjily'], ('goeld9911@gmail.com', 'xyz@gmail.com', 'abc@gmail.com', 'ghy@gmail.com'), ('XXXXXX7080', 'XXXXXX9876', 'XXXXXXX3245', 'XXXXXX6754')])"
      ]
     },
     "execution_count": 36,
     "metadata": {},
     "output_type": "execute_result"
    }
   ],
   "source": [
    "emp.values()"
   ]
  },
  {
   "cell_type": "code",
   "execution_count": 37,
   "id": "ce3c9e97-896c-4c91-b940-6c391c7a41ea",
   "metadata": {},
   "outputs": [
    {
     "data": {
      "text/plain": [
       "dict_items([('name', ['deepika goel', 'neha', 'rakhi', 'Anjily']), ('email', ('goeld9911@gmail.com', 'xyz@gmail.com', 'abc@gmail.com', 'ghy@gmail.com')), ('mobile_num', ('XXXXXX7080', 'XXXXXX9876', 'XXXXXXX3245', 'XXXXXX6754'))])"
      ]
     },
     "execution_count": 37,
     "metadata": {},
     "output_type": "execute_result"
    }
   ],
   "source": [
    "emp.items()"
   ]
  },
  {
   "cell_type": "code",
   "execution_count": 38,
   "id": "8c2d9c9d-4d1e-404c-8c7d-da3d310ae2b8",
   "metadata": {},
   "outputs": [
    {
     "ename": "TypeError",
     "evalue": "unhashable type: 'dict_items'",
     "output_type": "error",
     "traceback": [
      "\u001b[0;31m---------------------------------------------------------------------------\u001b[0m",
      "\u001b[0;31mTypeError\u001b[0m                                 Traceback (most recent call last)",
      "Cell \u001b[0;32mIn[38], line 1\u001b[0m\n\u001b[0;32m----> 1\u001b[0m d1 \u001b[38;5;241m=\u001b[39m {_:\u001b[38;5;124m\"\u001b[39m\u001b[38;5;124mneha\u001b[39m\u001b[38;5;124m\"\u001b[39m}\n",
      "\u001b[0;31mTypeError\u001b[0m: unhashable type: 'dict_items'"
     ]
    }
   ],
   "source": [
    "d1 = {_:\"neha\"}"
   ]
  },
  {
   "cell_type": "code",
   "execution_count": 39,
   "id": "79b04870-0da5-4a40-abc4-2db2e1d57e79",
   "metadata": {},
   "outputs": [],
   "source": [
    "d2 = {(\"name\", \"email\", \"mob_num\") : (\"deepika\", \"goeld9911@gmail.com\", \"9871459756\")}"
   ]
  },
  {
   "cell_type": "code",
   "execution_count": 40,
   "id": "70de6a19-3949-432e-91f4-967b15de1bd3",
   "metadata": {},
   "outputs": [
    {
     "data": {
      "text/plain": [
       "{('name', 'email', 'mob_num'): ('deepika',\n",
       "  'goeld9911@gmail.com',\n",
       "  '9871459756')}"
      ]
     },
     "execution_count": 40,
     "metadata": {},
     "output_type": "execute_result"
    }
   ],
   "source": [
    "d2"
   ]
  },
  {
   "cell_type": "code",
   "execution_count": 41,
   "id": "099dcae5-fe2b-47f0-a9f2-d58ffdc7e2a0",
   "metadata": {},
   "outputs": [
    {
     "data": {
      "text/plain": [
       "('deepika', 'goeld9911@gmail.com', '9871459756')"
      ]
     },
     "execution_count": 41,
     "metadata": {},
     "output_type": "execute_result"
    }
   ],
   "source": [
    "d2[\"name\", \"email\", \"mob_num\"]"
   ]
  },
  {
   "cell_type": "code",
   "execution_count": 42,
   "id": "5d11bc4c-9598-4a57-8c69-bda93d5003c8",
   "metadata": {},
   "outputs": [],
   "source": [
    "emp[\"state\"] = {\"Delhi\", \"Maharashtra\", \"Uttar Pradesh\", \"Punjab\", \"Karnataka\"}"
   ]
  },
  {
   "cell_type": "code",
   "execution_count": 43,
   "id": "0e166c1f-fd62-4b20-ba7c-396d9a2da7e7",
   "metadata": {},
   "outputs": [
    {
     "data": {
      "text/plain": [
       "{'name': ['deepika goel', 'neha', 'rakhi', 'Anjily'],\n",
       " 'email': ('goeld9911@gmail.com',\n",
       "  'xyz@gmail.com',\n",
       "  'abc@gmail.com',\n",
       "  'ghy@gmail.com'),\n",
       " 'mobile_num': ('XXXXXX7080', 'XXXXXX9876', 'XXXXXXX3245', 'XXXXXX6754'),\n",
       " 'state': {'Delhi', 'Karnataka', 'Maharashtra', 'Punjab', 'Uttar Pradesh'}}"
      ]
     },
     "execution_count": 43,
     "metadata": {},
     "output_type": "execute_result"
    }
   ],
   "source": [
    "emp"
   ]
  },
  {
   "cell_type": "code",
   "execution_count": 44,
   "id": "b2dd2e60-9281-4646-a26e-aa42f7534d67",
   "metadata": {},
   "outputs": [],
   "source": [
    "emp[\"name\"] = [\"Akshita\", \"Anamika\", \"Randhika\", \"Geetika\"] # Updating the keys with the new values."
   ]
  },
  {
   "cell_type": "code",
   "execution_count": 45,
   "id": "051bc0ba-4b9f-4c52-bb9c-cfcf7c319f4f",
   "metadata": {},
   "outputs": [
    {
     "data": {
      "text/plain": [
       "{'name': ['Akshita', 'Anamika', 'Randhika', 'Geetika'],\n",
       " 'email': ('goeld9911@gmail.com',\n",
       "  'xyz@gmail.com',\n",
       "  'abc@gmail.com',\n",
       "  'ghy@gmail.com'),\n",
       " 'mobile_num': ('XXXXXX7080', 'XXXXXX9876', 'XXXXXXX3245', 'XXXXXX6754'),\n",
       " 'state': {'Delhi', 'Karnataka', 'Maharashtra', 'Punjab', 'Uttar Pradesh'}}"
      ]
     },
     "execution_count": 45,
     "metadata": {},
     "output_type": "execute_result"
    }
   ],
   "source": [
    "emp"
   ]
  },
  {
   "cell_type": "code",
   "execution_count": 50,
   "id": "f4fbd3e6-63ee-430c-babf-f98bc0e3eb6b",
   "metadata": {},
   "outputs": [
    {
     "name": "stdout",
     "output_type": "stream",
     "text": [
      "name ['Akshita', 'Anamika', 'Randhika', 'Geetika']\n",
      "email ('goeld9911@gmail.com', 'xyz@gmail.com', 'abc@gmail.com', 'ghy@gmail.com')\n",
      "mobile_num ('XXXXXX7080', 'XXXXXX9876', 'XXXXXXX3245', 'XXXXXX6754')\n",
      "state {'Uttar Pradesh', 'Maharashtra', 'Punjab', 'Delhi', 'Karnataka'}\n"
     ]
    }
   ],
   "source": [
    "for key, value in emp.items():\n",
    "    print(key, value, end = \"\\n\")"
   ]
  },
  {
   "cell_type": "code",
   "execution_count": 52,
   "id": "791e6ec5-ddf8-4901-922a-41e306bdb651",
   "metadata": {},
   "outputs": [],
   "source": [
    "del(emp[\"name\"])"
   ]
  },
  {
   "cell_type": "code",
   "execution_count": 53,
   "id": "75e18e3c-fb5f-40e9-8e20-f22ee4d006c6",
   "metadata": {},
   "outputs": [
    {
     "data": {
      "text/plain": [
       "{'email': ('goeld9911@gmail.com',\n",
       "  'xyz@gmail.com',\n",
       "  'abc@gmail.com',\n",
       "  'ghy@gmail.com'),\n",
       " 'mobile_num': ('XXXXXX7080', 'XXXXXX9876', 'XXXXXXX3245', 'XXXXXX6754'),\n",
       " 'state': {'Delhi', 'Karnataka', 'Maharashtra', 'Punjab', 'Uttar Pradesh'}}"
      ]
     },
     "execution_count": 53,
     "metadata": {},
     "output_type": "execute_result"
    }
   ],
   "source": [
    "emp"
   ]
  },
  {
   "cell_type": "code",
   "execution_count": 54,
   "id": "48651d68-393b-4edc-be10-88318d5d4a8d",
   "metadata": {},
   "outputs": [],
   "source": [
    "emp[\"name\"] = [\"Akshita\", \"Anamika\", \"Randhika\", \"Geetika\"] # Updating the keys with the new values."
   ]
  },
  {
   "cell_type": "code",
   "execution_count": 55,
   "id": "7b78e3da-d076-4845-b816-6b2f6636ed15",
   "metadata": {},
   "outputs": [
    {
     "data": {
      "text/plain": [
       "'Akshita'"
      ]
     },
     "execution_count": 55,
     "metadata": {},
     "output_type": "execute_result"
    }
   ],
   "source": [
    "emp[\"name\"][0]"
   ]
  },
  {
   "cell_type": "code",
   "execution_count": 56,
   "id": "38fdf8bc-c6db-4cbc-92b1-94ef3c7c157a",
   "metadata": {},
   "outputs": [],
   "source": [
    "del(emp[\"name\"][0])"
   ]
  },
  {
   "cell_type": "code",
   "execution_count": 57,
   "id": "3babfc0d-b0cb-421e-b445-8db04fbf0440",
   "metadata": {},
   "outputs": [
    {
     "data": {
      "text/plain": [
       "{'email': ('goeld9911@gmail.com',\n",
       "  'xyz@gmail.com',\n",
       "  'abc@gmail.com',\n",
       "  'ghy@gmail.com'),\n",
       " 'mobile_num': ('XXXXXX7080', 'XXXXXX9876', 'XXXXXXX3245', 'XXXXXX6754'),\n",
       " 'state': {'Delhi', 'Karnataka', 'Maharashtra', 'Punjab', 'Uttar Pradesh'},\n",
       " 'name': ['Anamika', 'Randhika', 'Geetika']}"
      ]
     },
     "execution_count": 57,
     "metadata": {},
     "output_type": "execute_result"
    }
   ],
   "source": [
    "emp"
   ]
  },
  {
   "cell_type": "code",
   "execution_count": 59,
   "id": "34309b29-d79c-4633-8f74-7c05b2376d16",
   "metadata": {},
   "outputs": [
    {
     "data": {
      "text/plain": [
       "4"
      ]
     },
     "execution_count": 59,
     "metadata": {},
     "output_type": "execute_result"
    }
   ],
   "source": [
    "len(emp[\"mobile_num\"])"
   ]
  },
  {
   "cell_type": "code",
   "execution_count": 60,
   "id": "b0c7ea63-d644-4677-9843-89dd74d2a8f4",
   "metadata": {},
   "outputs": [
    {
     "data": {
      "text/plain": [
       "4"
      ]
     },
     "execution_count": 60,
     "metadata": {},
     "output_type": "execute_result"
    }
   ],
   "source": [
    "len(emp)"
   ]
  },
  {
   "cell_type": "code",
   "execution_count": 64,
   "id": "e1561468-70b7-46c4-a2d1-46ae9ec9feea",
   "metadata": {},
   "outputs": [],
   "source": [
    "w = list(emp.items())"
   ]
  },
  {
   "cell_type": "code",
   "execution_count": 65,
   "id": "ce1afcf1-6f62-40a6-a64b-913b41dfab19",
   "metadata": {},
   "outputs": [
    {
     "data": {
      "text/plain": [
       "[('email',\n",
       "  ('goeld9911@gmail.com', 'xyz@gmail.com', 'abc@gmail.com', 'ghy@gmail.com')),\n",
       " ('mobile_num', ('XXXXXX7080', 'XXXXXX9876', 'XXXXXXX3245', 'XXXXXX6754')),\n",
       " ('state', {'Delhi', 'Karnataka', 'Maharashtra', 'Punjab', 'Uttar Pradesh'}),\n",
       " ('name', ['Anamika', 'Randhika', 'Geetika'])]"
      ]
     },
     "execution_count": 65,
     "metadata": {},
     "output_type": "execute_result"
    }
   ],
   "source": [
    "w"
   ]
  },
  {
   "cell_type": "code",
   "execution_count": 66,
   "id": "ab8683f4-03f2-49b2-8667-e5bf849a87be",
   "metadata": {},
   "outputs": [
    {
     "data": {
      "text/plain": [
       "{'email': ('goeld9911@gmail.com',\n",
       "  'xyz@gmail.com',\n",
       "  'abc@gmail.com',\n",
       "  'ghy@gmail.com'),\n",
       " 'mobile_num': ('XXXXXX7080', 'XXXXXX9876', 'XXXXXXX3245', 'XXXXXX6754'),\n",
       " 'state': {'Delhi', 'Karnataka', 'Maharashtra', 'Punjab', 'Uttar Pradesh'},\n",
       " 'name': ['Anamika', 'Randhika', 'Geetika']}"
      ]
     },
     "execution_count": 66,
     "metadata": {},
     "output_type": "execute_result"
    }
   ],
   "source": [
    "y = dict(w)\n",
    "y"
   ]
  },
  {
   "cell_type": "code",
   "execution_count": 72,
   "id": "d32eb1eb-1625-4b01-b3d0-07123d471535",
   "metadata": {},
   "outputs": [],
   "source": [
    "emp = emp1.copy()"
   ]
  },
  {
   "cell_type": "code",
   "execution_count": 73,
   "id": "4ad8f5a1-ca5a-4682-85b8-6d5dee7954e5",
   "metadata": {},
   "outputs": [
    {
     "data": {
      "text/plain": [
       "{'email': ('goeld9911@gmail.com',\n",
       "  'xyz@gmail.com',\n",
       "  'abc@gmail.com',\n",
       "  'ghy@gmail.com'),\n",
       " 'mobile_num': ('XXXXXX7080', 'XXXXXX9876', 'XXXXXXX3245', 'XXXXXX6754'),\n",
       " 'state': {'Delhi', 'Karnataka', 'Maharashtra', 'Punjab', 'Uttar Pradesh'},\n",
       " 'name': ['Anamika', 'Randhika', 'Geetika']}"
      ]
     },
     "execution_count": 73,
     "metadata": {},
     "output_type": "execute_result"
    }
   ],
   "source": [
    "emp1"
   ]
  },
  {
   "cell_type": "code",
   "execution_count": 74,
   "id": "1200a942-b708-44ea-a5c6-8ddb16be2cd7",
   "metadata": {},
   "outputs": [
    {
     "data": {
      "text/plain": [
       "['Anamika', 'Randhika', 'Geetika']"
      ]
     },
     "execution_count": 74,
     "metadata": {},
     "output_type": "execute_result"
    }
   ],
   "source": [
    "emp.pop(\"name\")"
   ]
  },
  {
   "cell_type": "code",
   "execution_count": 76,
   "id": "af4324b3-2931-43e4-918a-dc2767d41de6",
   "metadata": {},
   "outputs": [
    {
     "data": {
      "text/plain": [
       "{'s': None, 't': None, 'a': None, 'e': None}"
      ]
     },
     "execution_count": 76,
     "metadata": {},
     "output_type": "execute_result"
    }
   ],
   "source": [
    "emp.fromkeys(\")"
   ]
  },
  {
   "cell_type": "code",
   "execution_count": 79,
   "id": "a56a0cdb-a291-471d-8fff-d39c6b46f5f2",
   "metadata": {},
   "outputs": [
    {
     "ename": "TypeError",
     "evalue": "unsupported operand type(s) for +: 'dict' and 'dict'",
     "output_type": "error",
     "traceback": [
      "\u001b[0;31m---------------------------------------------------------------------------\u001b[0m",
      "\u001b[0;31mTypeError\u001b[0m                                 Traceback (most recent call last)",
      "Cell \u001b[0;32mIn[79], line 1\u001b[0m\n\u001b[0;32m----> 1\u001b[0m emp2 \u001b[38;5;241m=\u001b[39m  \u001b[43memp\u001b[49m\u001b[43m \u001b[49m\u001b[38;5;241;43m+\u001b[39;49m\u001b[43m \u001b[49m\u001b[43memp1\u001b[49m \n",
      "\u001b[0;31mTypeError\u001b[0m: unsupported operand type(s) for +: 'dict' and 'dict'"
     ]
    }
   ],
   "source": [
    "emp2 =  emp + emp1 "
   ]
  },
  {
   "cell_type": "code",
   "execution_count": 80,
   "id": "127de8a1-c476-463f-b7c8-581bb7e00264",
   "metadata": {},
   "outputs": [
    {
     "ename": "TypeError",
     "evalue": "unsupported operand type(s) for *: 'dict' and 'int'",
     "output_type": "error",
     "traceback": [
      "\u001b[0;31m---------------------------------------------------------------------------\u001b[0m",
      "\u001b[0;31mTypeError\u001b[0m                                 Traceback (most recent call last)",
      "Cell \u001b[0;32mIn[80], line 1\u001b[0m\n\u001b[0;32m----> 1\u001b[0m emp2 \u001b[38;5;241m=\u001b[39m \u001b[43memp\u001b[49m\u001b[43m \u001b[49m\u001b[38;5;241;43m*\u001b[39;49m\u001b[43m \u001b[49m\u001b[38;5;241;43m2\u001b[39;49m\n",
      "\u001b[0;31mTypeError\u001b[0m: unsupported operand type(s) for *: 'dict' and 'int'"
     ]
    }
   ],
   "source": [
    "emp2 = emp * 2"
   ]
  },
  {
   "cell_type": "code",
   "execution_count": 81,
   "id": "16dcf4b2-55fb-44b5-8e84-c7c38eb390e7",
   "metadata": {},
   "outputs": [],
   "source": [
    "emp2 = (emp1, emp)"
   ]
  },
  {
   "cell_type": "code",
   "execution_count": 82,
   "id": "a10ce5a4-71cc-4dd5-a903-ca1cb9d7f073",
   "metadata": {},
   "outputs": [
    {
     "data": {
      "text/plain": [
       "({'email': ('goeld9911@gmail.com',\n",
       "   'xyz@gmail.com',\n",
       "   'abc@gmail.com',\n",
       "   'ghy@gmail.com'),\n",
       "  'mobile_num': ('XXXXXX7080', 'XXXXXX9876', 'XXXXXXX3245', 'XXXXXX6754'),\n",
       "  'state': {'Delhi', 'Karnataka', 'Maharashtra', 'Punjab', 'Uttar Pradesh'},\n",
       "  'name': ['Anamika', 'Randhika', 'Geetika']},\n",
       " {'email': ('goeld9911@gmail.com',\n",
       "   'xyz@gmail.com',\n",
       "   'abc@gmail.com',\n",
       "   'ghy@gmail.com'),\n",
       "  'mobile_num': ('XXXXXX7080', 'XXXXXX9876', 'XXXXXXX3245', 'XXXXXX6754'),\n",
       "  'state': {'Delhi', 'Karnataka', 'Maharashtra', 'Punjab', 'Uttar Pradesh'}})"
      ]
     },
     "execution_count": 82,
     "metadata": {},
     "output_type": "execute_result"
    }
   ],
   "source": [
    "emp2"
   ]
  },
  {
   "cell_type": "code",
   "execution_count": 1,
   "id": "1e7b8b5e-0a13-4ef1-aad0-4e456a1ba71f",
   "metadata": {},
   "outputs": [],
   "source": [
    "temp1 = {\"games\":{\"hide and seek\", \"ludo\", \"chess\"}, \"hobbies\":(\"listening music\", \"watching tv\")} "
   ]
  },
  {
   "cell_type": "code",
   "execution_count": 2,
   "id": "2c57fb25-fd09-44be-b8ef-5c7c8b8c32a1",
   "metadata": {},
   "outputs": [],
   "source": [
    "temp2 = {\"game\":{\"badminton\", \"table tennis\"}, \"hobby\" : (\"replicate dance steps\", \"swimming\")}"
   ]
  },
  {
   "cell_type": "code",
   "execution_count": 3,
   "id": "3270ea90-7231-42a5-8ef3-d03dc62eed93",
   "metadata": {},
   "outputs": [
    {
     "data": {
      "text/plain": [
       "{'games': {'chess', 'hide and seek', 'ludo'},\n",
       " 'hobbies': ('listening music', 'watching tv')}"
      ]
     },
     "execution_count": 3,
     "metadata": {},
     "output_type": "execute_result"
    }
   ],
   "source": [
    "temp1"
   ]
  },
  {
   "cell_type": "code",
   "execution_count": 4,
   "id": "96b6b188-a761-4fc9-8c14-d6da6aad49e5",
   "metadata": {},
   "outputs": [
    {
     "data": {
      "text/plain": [
       "{'game': {'badminton', 'table tennis'},\n",
       " 'hobby': ('replicate dance steps', 'swimming')}"
      ]
     },
     "execution_count": 4,
     "metadata": {},
     "output_type": "execute_result"
    }
   ],
   "source": [
    "temp2"
   ]
  },
  {
   "cell_type": "code",
   "execution_count": 5,
   "id": "b2c658bd-0feb-4819-93e9-45ceac215f84",
   "metadata": {},
   "outputs": [],
   "source": [
    "temp1.update(temp2)"
   ]
  },
  {
   "cell_type": "code",
   "execution_count": 6,
   "id": "e9621852-3f53-4b01-97ca-3b2ed070a670",
   "metadata": {},
   "outputs": [
    {
     "data": {
      "text/plain": [
       "{'games': {'chess', 'hide and seek', 'ludo'},\n",
       " 'hobbies': ('listening music', 'watching tv'),\n",
       " 'game': {'badminton', 'table tennis'},\n",
       " 'hobby': ('replicate dance steps', 'swimming')}"
      ]
     },
     "execution_count": 6,
     "metadata": {},
     "output_type": "execute_result"
    }
   ],
   "source": [
    "temp1"
   ]
  },
  {
   "cell_type": "code",
   "execution_count": 8,
   "id": "fd612b61-f18a-4516-9826-477ea50c1b93",
   "metadata": {},
   "outputs": [
    {
     "data": {
      "text/plain": [
       "{'badminton', 'table tennis'}"
      ]
     },
     "execution_count": 8,
     "metadata": {},
     "output_type": "execute_result"
    }
   ],
   "source": [
    "temp1.get(\"game\") # get method is used to get the \"game\" (key) name values from a dictionary."
   ]
  },
  {
   "cell_type": "markdown",
   "id": "846f357e-de2e-4948-a17f-a5fb7fdab46d",
   "metadata": {},
   "source": [
    "Dictionary Comprehensions"
   ]
  },
  {
   "cell_type": "code",
   "execution_count": 10,
   "id": "73339bc5-e720-46d6-8e7c-941d409c4f27",
   "metadata": {},
   "outputs": [],
   "source": [
    "d = dict()\n",
    "\n",
    "for i in range(1, 11):\n",
    "    d[i] = i**2\n",
    "    \n",
    "    \n",
    "    "
   ]
  },
  {
   "cell_type": "code",
   "execution_count": 11,
   "id": "b2589b72-dff5-4a9b-ab77-86e40c22dcf5",
   "metadata": {},
   "outputs": [
    {
     "data": {
      "text/plain": [
       "{1: 1, 2: 4, 3: 9, 4: 16, 5: 25, 6: 36, 7: 49, 8: 64, 9: 81, 10: 100}"
      ]
     },
     "execution_count": 11,
     "metadata": {},
     "output_type": "execute_result"
    }
   ],
   "source": [
    "d"
   ]
  },
  {
   "cell_type": "code",
   "execution_count": 12,
   "id": "424a7caa-4e1b-4c8a-805d-a689e3b81087",
   "metadata": {},
   "outputs": [
    {
     "data": {
      "text/plain": [
       "{1: 1, 2: 4, 3: 9, 4: 16, 5: 25, 6: 36, 7: 49, 8: 64, 9: 81, 10: 100}"
      ]
     },
     "execution_count": 12,
     "metadata": {},
     "output_type": "execute_result"
    }
   ],
   "source": [
    "{i : i ** 2 for i in range (1, 11)}"
   ]
  },
  {
   "cell_type": "code",
   "execution_count": 14,
   "id": "e64e5501-428d-4f5a-81a8-5a7e21ab2650",
   "metadata": {},
   "outputs": [
    {
     "data": {
      "text/plain": [
       "{1: 0.0,\n",
       " 2: 0.301,\n",
       " 3: 0.477,\n",
       " 4: 0.602,\n",
       " 5: 0.699,\n",
       " 6: 0.778,\n",
       " 7: 0.845,\n",
       " 8: 0.903,\n",
       " 9: 0.954,\n",
       " 10: 1.0}"
      ]
     },
     "execution_count": 14,
     "metadata": {},
     "output_type": "execute_result"
    }
   ],
   "source": [
    "import math\n",
    "\n",
    "d = {i : round(math.log10(i),3) for i in range(1,11)}\n",
    "d"
   ]
  },
  {
   "cell_type": "code",
   "execution_count": 15,
   "id": "9fdc2ae6-ab79-4bee-952e-fc7296b7db22",
   "metadata": {},
   "outputs": [
    {
     "data": {
      "text/plain": [
       "True"
      ]
     },
     "execution_count": 15,
     "metadata": {},
     "output_type": "execute_result"
    }
   ],
   "source": [
    "\"games\" in temp1"
   ]
  },
  {
   "cell_type": "code",
   "execution_count": 19,
   "id": "3573e290-d1f3-421f-8ca1-1faa561d2020",
   "metadata": {},
   "outputs": [
    {
     "name": "stdout",
     "output_type": "stream",
     "text": [
      "2 0.301\t\n",
      "\n",
      "4 0.602\t\n",
      "\n",
      "6 0.778\t\n",
      "\n",
      "8 0.903\t\n",
      "\n",
      "10 1.0\t\n",
      "\n"
     ]
    }
   ],
   "source": [
    "for i in range(1, len(d)+1):\n",
    "    if i % 2 == 0:\n",
    "        print(i, d[i], end = \"\\t\")\n",
    "        print(\"\\n\")"
   ]
  },
  {
   "cell_type": "code",
   "execution_count": 11,
   "id": "a4507ed9-5898-4b2f-b510-a5a3f5aea57c",
   "metadata": {},
   "outputs": [],
   "source": [
    "l1 = [i for i in range(1, 3)] # List1 has 2 elements\n",
    "l2 = [i ** 2 for i in range(1, 5)] # List2 has 4 elements\n",
    "\n",
    "d = dict(zip(l1, l2)) # Converting lisr into a dictionary using zip method will take 2 elements as per the items which are lower in either of the list."
   ]
  },
  {
   "cell_type": "code",
   "execution_count": 12,
   "id": "6b47c741",
   "metadata": {},
   "outputs": [
    {
     "data": {
      "text/plain": [
       "[1, 2]"
      ]
     },
     "execution_count": 12,
     "metadata": {},
     "output_type": "execute_result"
    }
   ],
   "source": [
    "l1"
   ]
  },
  {
   "cell_type": "code",
   "execution_count": 13,
   "id": "e1932e43",
   "metadata": {},
   "outputs": [
    {
     "data": {
      "text/plain": [
       "{1: 1, 2: 4}"
      ]
     },
     "execution_count": 13,
     "metadata": {},
     "output_type": "execute_result"
    }
   ],
   "source": [
    "d"
   ]
  },
  {
   "cell_type": "code",
   "execution_count": 14,
   "id": "5e1a28ca",
   "metadata": {},
   "outputs": [],
   "source": [
    "d = dict(zip(l2, l1))"
   ]
  },
  {
   "cell_type": "code",
   "execution_count": 15,
   "id": "6beed8c7",
   "metadata": {},
   "outputs": [
    {
     "data": {
      "text/plain": [
       "{1: 1, 4: 2}"
      ]
     },
     "execution_count": 15,
     "metadata": {},
     "output_type": "execute_result"
    }
   ],
   "source": [
    "d"
   ]
  },
  {
   "cell_type": "code",
   "execution_count": 16,
   "id": "d42d985b",
   "metadata": {},
   "outputs": [],
   "source": [
    "d1 = {\"student\": [\"me\", \"xyz\", \"abc\"], \"email\": (\"xyz@gmail.com\", \"abc@gmail.com\"), \"mob\":\"\"}"
   ]
  },
  {
   "cell_type": "code",
   "execution_count": 17,
   "id": "c543a951",
   "metadata": {},
   "outputs": [
    {
     "data": {
      "text/plain": [
       "{'student': ['me', 'xyz', 'abc'],\n",
       " 'email': ('xyz@gmail.com', 'abc@gmail.com'),\n",
       " 'mob': ''}"
      ]
     },
     "execution_count": 17,
     "metadata": {},
     "output_type": "execute_result"
    }
   ],
   "source": [
    "d1"
   ]
  },
  {
   "cell_type": "code",
   "execution_count": 20,
   "id": "c91eb8d7",
   "metadata": {},
   "outputs": [],
   "source": [
    "l = list(zip(d1.items()))"
   ]
  },
  {
   "cell_type": "code",
   "execution_count": 21,
   "id": "fa9696be",
   "metadata": {},
   "outputs": [
    {
     "data": {
      "text/plain": [
       "[(('student', ['me', 'xyz', 'abc']),),\n",
       " (('email', ('xyz@gmail.com', 'abc@gmail.com')),),\n",
       " (('mob', ''),)]"
      ]
     },
     "execution_count": 21,
     "metadata": {},
     "output_type": "execute_result"
    }
   ],
   "source": [
    "l"
   ]
  },
  {
   "cell_type": "code",
   "execution_count": 34,
   "id": "99219c2a",
   "metadata": {},
   "outputs": [
    {
     "name": "stdout",
     "output_type": "stream",
     "text": [
      "student\n",
      "['me', 'xyz', 'abc']\n",
      "email\n",
      "('xyz@gmail.com', 'abc@gmail.com')\n",
      "mob\n",
      "\n"
     ]
    }
   ],
   "source": [
    "\n",
    "for i in l:\n",
    "    for j in i:\n",
    "        for k in j:\n",
    "            print(k)\n",
    "            \n",
    "\n",
    "            "
   ]
  },
  {
   "cell_type": "code",
   "execution_count": 52,
   "metadata": {},
   "outputs": [
    {
     "ename": "IndexError",
     "evalue": "tuple index out of range",
     "output_type": "error",
     "traceback": [
      "\u001b[1;31m---------------------------------------------------------------------------\u001b[0m",
      "\u001b[1;31mIndexError\u001b[0m                                Traceback (most recent call last)",
      "Input \u001b[1;32mIn [52]\u001b[0m, in \u001b[0;36m<cell line: 1>\u001b[1;34m()\u001b[0m\n\u001b[1;32m----> 1\u001b[0m \u001b[43ml\u001b[49m\u001b[43m[\u001b[49m\u001b[38;5;241;43m0\u001b[39;49m\u001b[43m]\u001b[49m\u001b[43m[\u001b[49m\u001b[38;5;241;43m1\u001b[39;49m\u001b[43m]\u001b[49m[\u001b[38;5;241m1\u001b[39m]\n",
      "\u001b[1;31mIndexError\u001b[0m: tuple index out of range"
     ]
    }
   ],
   "source": [
    "l[0][0][1]"
   ]
  },
  {
   "cell_type": "code",
   "execution_count": 111,
   "id": "92ba967a",
   "metadata": {},
   "outputs": [
    {
     "name": "stdout",
     "output_type": "stream",
     "text": [
      "student\n",
      "['me', 'xyz', 'abc']\n",
      "email\n",
      "('xyz@gmail.com', 'abc@gmail.com')\n",
      "mob\n",
      "\n"
     ]
    }
   ],
   "source": [
    "\n",
    "l3, l4 = [], []\n",
    "for i in range (len(l)):\n",
    "    # print(i)\n",
    "    for j in range(len(l[i])):\n",
    "        # print(j)\n",
    "        for k in range (len(l[i][j])):\n",
    "            # print(len(l)-2)\n",
    "            if k == 0:\n",
    "                l3.append(l[i][j][k])\n",
    "            if k == 1:\n",
    "                l4.append(l[i][j][k])\n",
    "            print (l[i][j][k])\n",
    "            # for t in range(len(l[k])):\n",
    "            #     print(l[i][j][k])"
   ]
  },
  {
   "cell_type": "code",
   "execution_count": 112,
   "id": "8b987cb2",
   "metadata": {},
   "outputs": [
    {
     "data": {
      "text/plain": [
       "['student', 'email', 'mob']"
      ]
     },
     "execution_count": 112,
     "metadata": {},
     "output_type": "execute_result"
    }
   ],
   "source": [
    "l3"
   ]
  },
  {
   "cell_type": "code",
   "execution_count": 113,
   "id": "203dff2e",
   "metadata": {},
   "outputs": [
    {
     "data": {
      "text/plain": [
       "[['me', 'xyz', 'abc'], ('xyz@gmail.com', 'abc@gmail.com'), '']"
      ]
     },
     "execution_count": 113,
     "metadata": {},
     "output_type": "execute_result"
    }
   ],
   "source": [
    "l4"
   ]
  },
  {
   "cell_type": "code",
   "execution_count": 108,
   "id": "4a00a45f",
   "metadata": {},
   "outputs": [
    {
     "data": {
      "text/plain": [
       "{'student': ['me', 'xyz', 'abc'],\n",
       " 'email': ('xyz@gmail.com', 'abc@gmail.com'),\n",
       " 'mob': ''}"
      ]
     },
     "execution_count": 108,
     "metadata": {},
     "output_type": "execute_result"
    }
   ],
   "source": [
    "d2 = dict(zip(l3, l4))\n",
    "d2"
   ]
  },
  {
   "cell_type": "code",
   "execution_count": 109,
   "id": "bb8a0e18",
   "metadata": {},
   "outputs": [
    {
     "name": "stdout",
     "output_type": "stream",
     "text": [
      "['me', 'xyz', 'abc']\n",
      "dict_items([('student', ['me', 'xyz', 'abc']), ('email', ('xyz@gmail.com', 'abc@gmail.com')), ('mob', '')])\n"
     ]
    }
   ],
   "source": [
    "print(l[0][0][1])\n",
    "print(d2.items())"
   ]
  },
  {
   "cell_type": "code",
   "execution_count": 110,
   "id": "c3e1f8eb",
   "metadata": {},
   "outputs": [
    {
     "name": "stdout",
     "output_type": "stream",
     "text": [
      "('xyz@gmail.com', 'abc@gmail.com')\n"
     ]
    }
   ],
   "source": [
    "print(l[1][0][1])"
   ]
  },
  {
   "cell_type": "code",
   "execution_count": null,
   "id": "f9c534c1",
   "metadata": {},
   "outputs": [],
   "source": []
  }
 ],
 "metadata": {
  "kernelspec": {
   "display_name": "Python 3 (ipykernel)",
   "language": "python",
   "name": "python3"
  },
  "language_info": {
   "codemirror_mode": {
    "name": "ipython",
    "version": 3
   },
   "file_extension": ".py",
   "mimetype": "text/x-python",
   "name": "python",
   "nbconvert_exporter": "python",
   "pygments_lexer": "ipython3",
   "version": "3.8.8"
  }
 },
 "nbformat": 4,
 "nbformat_minor": 5
}
