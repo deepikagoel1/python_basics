{
 "cells": [
  {
   "cell_type": "code",
   "execution_count": 1,
   "id": "023c4630-a2f6-4811-a7d2-7002d7025581",
   "metadata": {},
   "outputs": [
    {
     "ename": "SyntaxError",
     "evalue": "incomplete input (422752300.py, line 2)",
     "output_type": "error",
     "traceback": [
      "\u001b[0;36m  Cell \u001b[0;32mIn[1], line 2\u001b[0;36m\u001b[0m\n\u001b[0;31m    \u001b[0m\n\u001b[0m    ^\u001b[0m\n\u001b[0;31mSyntaxError\u001b[0m\u001b[0;31m:\u001b[0m incomplete input\n"
     ]
    }
   ],
   "source": [
    "def func1():\n",
    "    "
   ]
  },
  {
   "cell_type": "code",
   "execution_count": 2,
   "id": "29e71c24-d45a-47d6-8397-39b330feae00",
   "metadata": {},
   "outputs": [],
   "source": [
    "def func1():\n",
    "    pass # to avoid syntaxerror we can use pass keyword if nothing is written inside a function. For example, we just have to give definition of a function and the later provides the complete information so we can use \"pass\" keyword."
   ]
  },
  {
   "cell_type": "code",
   "execution_count": 3,
   "id": "75abc8dc-55a7-4774-81a3-b6b0bf5fa7a5",
   "metadata": {},
   "outputs": [],
   "source": [
    "def func():\n",
    "    print(\"Hello Varun!!!!\")"
   ]
  },
  {
   "cell_type": "code",
   "execution_count": 4,
   "id": "5093d13d-1dfd-4336-a748-e70938e3aa70",
   "metadata": {},
   "outputs": [
    {
     "name": "stdout",
     "output_type": "stream",
     "text": [
      "Hello Varun!!!!\n"
     ]
    },
    {
     "ename": "TypeError",
     "evalue": "unsupported operand type(s) for +: 'NoneType' and 'str'",
     "output_type": "error",
     "traceback": [
      "\u001b[0;31m---------------------------------------------------------------------------\u001b[0m",
      "\u001b[0;31mTypeError\u001b[0m                                 Traceback (most recent call last)",
      "Cell \u001b[0;32mIn[4], line 1\u001b[0m\n\u001b[0;32m----> 1\u001b[0m \u001b[43mfunc\u001b[49m\u001b[43m(\u001b[49m\u001b[43m)\u001b[49m\u001b[43m \u001b[49m\u001b[38;5;241;43m+\u001b[39;49m\u001b[43m \u001b[49m\u001b[38;5;124;43m\"\u001b[39;49m\u001b[38;5;124;43mGood Morning\u001b[39;49m\u001b[38;5;124;43m\"\u001b[39;49m\n",
      "\u001b[0;31mTypeError\u001b[0m: unsupported operand type(s) for +: 'NoneType' and 'str'"
     ]
    }
   ],
   "source": [
    "func() + \"Good Morning\""
   ]
  },
  {
   "cell_type": "code",
   "execution_count": 5,
   "id": "4913d5c0-a7b0-4a3c-862d-93d18ed25696",
   "metadata": {},
   "outputs": [],
   "source": [
    "def func():\n",
    "    return \"Hello Varun!!!!\""
   ]
  },
  {
   "cell_type": "code",
   "execution_count": 6,
   "id": "c88a56f6-f6ba-4ad4-b541-36a0042a08a4",
   "metadata": {},
   "outputs": [],
   "source": [
    "f1 = func()"
   ]
  },
  {
   "cell_type": "code",
   "execution_count": 7,
   "id": "28f7e42c-eaf2-4505-8a5b-07fbf5083547",
   "metadata": {},
   "outputs": [
    {
     "data": {
      "text/plain": [
       "'Hello Varun!!!!Good Morning'"
      ]
     },
     "execution_count": 7,
     "metadata": {},
     "output_type": "execute_result"
    }
   ],
   "source": [
    "f1 + \"Good Morning\""
   ]
  },
  {
   "cell_type": "code",
   "execution_count": 8,
   "id": "82e1f40e-fbe9-4b29-8125-29cf7c6a7827",
   "metadata": {},
   "outputs": [
    {
     "data": {
      "text/plain": [
       "'Hello Varun!!!!Good Morning'"
      ]
     },
     "execution_count": 8,
     "metadata": {},
     "output_type": "execute_result"
    }
   ],
   "source": [
    "func() + \"Good Morning\""
   ]
  },
  {
   "cell_type": "code",
   "execution_count": 10,
   "id": "b3bfe4db-6cc7-48d7-a03f-78bbc21ece55",
   "metadata": {},
   "outputs": [],
   "source": [
    "def test2():\n",
    "    return 1,2,3, \"I Love You Varun K!!!\", True, 3.45, (1,2,3,4), [\"a\", \"b\", \"c\"], {\"life\":\"young\"}, {1,2,3,4}"
   ]
  },
  {
   "cell_type": "code",
   "execution_count": 11,
   "id": "1e112e53-e60d-43b6-b246-747afb685b63",
   "metadata": {},
   "outputs": [
    {
     "data": {
      "text/plain": [
       "(1,\n",
       " 2,\n",
       " 3,\n",
       " 'I Love You Varun K!!!',\n",
       " True,\n",
       " 3.45,\n",
       " (1, 2, 3, 4),\n",
       " ['a', 'b', 'c'],\n",
       " {'life': 'young'},\n",
       " {1, 2, 3, 4})"
      ]
     },
     "execution_count": 11,
     "metadata": {},
     "output_type": "execute_result"
    }
   ],
   "source": [
    "test2()"
   ]
  },
  {
   "cell_type": "code",
   "execution_count": 12,
   "id": "e33f05ed-b131-46ce-b5a9-6e699a068729",
   "metadata": {},
   "outputs": [
    {
     "data": {
      "text/plain": [
       "(1, 2, 3)"
      ]
     },
     "execution_count": 12,
     "metadata": {},
     "output_type": "execute_result"
    }
   ],
   "source": [
    "a = 1,2,3, \n",
    "a  # By default operator assignment data-type is tuple if we have multiple elements."
   ]
  },
  {
   "cell_type": "code",
   "execution_count": 14,
   "id": "09a342bd-816d-41f5-8783-c16fec5597a9",
   "metadata": {},
   "outputs": [],
   "source": [
    "a, b, c, d = 1, 2, 3.45, True"
   ]
  },
  {
   "cell_type": "code",
   "execution_count": 16,
   "id": "3aacb576-ea8f-49ba-8c75-16d7599f01d6",
   "metadata": {},
   "outputs": [
    {
     "name": "stdout",
     "output_type": "stream",
     "text": [
      "1<<<2<<<3.45<<<True\n"
     ]
    }
   ],
   "source": [
    "print(a, b, c, d, sep=\"<<<\", end = \"\\n\")"
   ]
  },
  {
   "cell_type": "code",
   "execution_count": 19,
   "id": "0496b12e-9d7d-43e9-a03e-0ef75432fdac",
   "metadata": {},
   "outputs": [
    {
     "data": {
      "text/plain": [
       "'I Love You Varun K!!!'"
      ]
     },
     "execution_count": 19,
     "metadata": {},
     "output_type": "execute_result"
    }
   ],
   "source": [
    "test2()[3]"
   ]
  },
  {
   "cell_type": "code",
   "execution_count": 20,
   "id": "b754b39e-d84f-491e-b457-2dd9a26b2d8f",
   "metadata": {},
   "outputs": [
    {
     "ename": "ValueError",
     "evalue": "too many values to unpack (expected 4)",
     "output_type": "error",
     "traceback": [
      "\u001b[0;31m---------------------------------------------------------------------------\u001b[0m",
      "\u001b[0;31mValueError\u001b[0m                                Traceback (most recent call last)",
      "Cell \u001b[0;32mIn[20], line 1\u001b[0m\n\u001b[0;32m----> 1\u001b[0m a, b, c, d \u001b[38;5;241m=\u001b[39m test2()\n",
      "\u001b[0;31mValueError\u001b[0m: too many values to unpack (expected 4)"
     ]
    }
   ],
   "source": [
    "a, b, c, d = test2()"
   ]
  },
  {
   "cell_type": "code",
   "execution_count": 5,
   "id": "0b9b3a90-61be-4353-8ede-a651909c99ac",
   "metadata": {},
   "outputs": [],
   "source": [
    "def fact1(n):\n",
    "    fact = 1\n",
    "    while(n > 0):\n",
    "        num = n\n",
    "        num = num * 1\n",
    "        fact = fact * num\n",
    "        n -= 1\n",
    "    return fact\n",
    "        "
   ]
  },
  {
   "cell_type": "code",
   "execution_count": 6,
   "id": "0f7adc30-e813-4c4f-b455-8af6a4791ac4",
   "metadata": {},
   "outputs": [
    {
     "name": "stdout",
     "output_type": "stream",
     "text": [
      "Enter the number of which Factorial has to be find out 5\n"
     ]
    },
    {
     "name": "stdout",
     "output_type": "stream",
     "text": [
      "Factorial of a number is 120\n"
     ]
    }
   ],
   "source": [
    "num = int(input(\"Enter the number of which Factorial has to be find out\"))\n",
    "\n",
    "f = fact1(num)\n",
    "\n",
    "print(\"Factorial of a number is\", f)\n"
   ]
  },
  {
   "cell_type": "code",
   "execution_count": 2,
   "id": "87cef293-66df-42f9-a854-990656a6f00c",
   "metadata": {},
   "outputs": [],
   "source": [
    "l = [1,2,3,4,5, \"varun\", \"deepika\", 4.5, 4+5j, [5, 6, 7, 8.5], (1, 2, 3, True, 7.9)]"
   ]
  },
  {
   "cell_type": "code",
   "execution_count": 3,
   "id": "6f4c1896-9e7b-4acd-986e-e06f4ab807cf",
   "metadata": {},
   "outputs": [],
   "source": [
    "def func2(l):\n",
    "    v = []\n",
    "    for i in range(len(l)):\n",
    "        if type(l[i]) == int:\n",
    "            v.append(l[i])\n",
    "        elif type(l[i]) == float:\n",
    "            v.append(l[i])\n",
    "        elif type(l[i]) == complex:\n",
    "            v.append(l[i])\n",
    "    return v"
   ]
  },
  {
   "cell_type": "code",
   "execution_count": 4,
   "id": "92f61f8a-2ebe-4016-8036-06cd3a63c6cc",
   "metadata": {},
   "outputs": [
    {
     "data": {
      "text/plain": [
       "[1, 2, 3, 4, 5, 4.5, (4+5j)]"
      ]
     },
     "execution_count": 4,
     "metadata": {},
     "output_type": "execute_result"
    }
   ],
   "source": [
    "func2(l)"
   ]
  },
  {
   "cell_type": "code",
   "execution_count": 5,
   "id": "5a579458-a916-4d11-998b-4ad337705771",
   "metadata": {},
   "outputs": [
    {
     "data": {
      "text/plain": [
       "complex"
      ]
     },
     "execution_count": 5,
     "metadata": {},
     "output_type": "execute_result"
    }
   ],
   "source": [
    "type(4+5j)"
   ]
  },
  {
   "cell_type": "code",
   "execution_count": 14,
   "id": "30653057-f25d-4e87-af07-ceb695a5bcb1",
   "metadata": {},
   "outputs": [],
   "source": [
    "def func2(l):\n",
    "    print(\"List\", l)\n",
    "    v = []\n",
    "    for i in l:\n",
    "        # print(i)\n",
    "        if type(i) == list:\n",
    "            for j in i:\n",
    "                # print(j)\n",
    "                if type(j) == int:\n",
    "                    v.append(j)\n",
    "                elif type(j) == float:\n",
    "                    v.append(j)\n",
    "                elif type(j) == complex:\n",
    "                    v.append(j)\n",
    "        elif type(i) == tuple:\n",
    "            for j in i:\n",
    "                # print(j)\n",
    "                if type(j) == int:\n",
    "                    v.append(j)\n",
    "                elif type(j) == float:\n",
    "                    v.append(j)\n",
    "                elif type(j) == complex:\n",
    "                    v.append(j)\n",
    "        if type(i) == int:\n",
    "            v.append(i)\n",
    "        elif type(i) == float:\n",
    "            v.append(i)\n",
    "        elif type(i) == complex:\n",
    "            v.append(i)\n",
    "\n",
    "    return v"
   ]
  },
  {
   "cell_type": "code",
   "execution_count": 15,
   "id": "d00b9f29-3a61-4c8e-a4a3-f5e35f33ae69",
   "metadata": {},
   "outputs": [
    {
     "name": "stdout",
     "output_type": "stream",
     "text": [
      "List [1, 2, 3, 4, 5, 'varun', 'deepika', 4.5, (4+5j), [5, 6, 7, 8.5], (1, 2, 3, True, 7.9)]\n"
     ]
    },
    {
     "data": {
      "text/plain": [
       "[1, 2, 3, 4, 5, 4.5, (4+5j), 5, 6, 7, 8.5, 1, 2, 3, 7.9]"
      ]
     },
     "execution_count": 15,
     "metadata": {},
     "output_type": "execute_result"
    }
   ],
   "source": [
    "func2(l)"
   ]
  },
  {
   "cell_type": "code",
   "execution_count": 25,
   "id": "f874c973-4a59-487b-981e-42b867704678",
   "metadata": {},
   "outputs": [],
   "source": [
    "def func2(l):\n",
    "    \n",
    "    v = []\n",
    "\n",
    "    for i in range(len(l)):\n",
    "        \n",
    "        if type(l[i]) == list:\n",
    "            # print(\"list\", l[i])\n",
    "            for j in range(len(l[i])):\n",
    "                \n",
    "                if type(l[i][j]) == int:\n",
    "                    v.append(l[i][j])\n",
    "                elif type(l[i][j]) == float:\n",
    "                    v.append(l[i][j])\n",
    "                elif type(l[i][j]) == complex:\n",
    "                    v.append(l[i][j])\n",
    "\n",
    "        if type(l[i]) == tuple:\n",
    "            for j in range(len(l[i])):\n",
    "                \n",
    "                if type(l[i][j]) == int:\n",
    "                    v.append(l[i][j])\n",
    "                elif type(l[i][j]) == float:\n",
    "                    v.append(l[i][j])\n",
    "                elif type(l[i][j]) == complex:\n",
    "                    v.append(l[i][j])\n",
    "        \n",
    "        if type(l[i]) == int:\n",
    "            v.append(l[i])\n",
    "        elif type(l[i]) == float:\n",
    "            v.append(l[i])\n",
    "        elif type(l[i]) == complex:\n",
    "            v.append(l[i])\n",
    "\n",
    "    return v"
   ]
  },
  {
   "cell_type": "code",
   "execution_count": 26,
   "id": "2f56f293",
   "metadata": {},
   "outputs": [
    {
     "data": {
      "text/plain": [
       "[1, 2, 3, 4, 5, 4.5, (4+5j), 5, 6, 7, 8.5, 1, 2, 3, 7.9]"
      ]
     },
     "execution_count": 26,
     "metadata": {},
     "output_type": "execute_result"
    }
   ],
   "source": [
    "func2(l)"
   ]
  },
  {
   "cell_type": "code",
   "execution_count": 24,
   "id": "84c4cc24",
   "metadata": {},
   "outputs": [
    {
     "data": {
      "text/plain": [
       "[1,\n",
       " 2,\n",
       " 3,\n",
       " 4,\n",
       " 5,\n",
       " 'varun',\n",
       " 'deepika',\n",
       " 4.5,\n",
       " (4+5j),\n",
       " [5, 6, 7, 8.5],\n",
       " (1, 2, 3, True, 7.9)]"
      ]
     },
     "execution_count": 24,
     "metadata": {},
     "output_type": "execute_result"
    }
   ],
   "source": [
    "l"
   ]
  },
  {
   "cell_type": "code",
   "execution_count": 27,
   "id": "025898c1",
   "metadata": {},
   "outputs": [],
   "source": [
    "def fib_series(n, m):\n",
    "    y = [n, m]\n",
    "    while(n <= 5):\n",
    "        x = n + m\n",
    "        y.append(x)\n",
    "        n = m\n",
    "        m = x\n",
    "    return y"
   ]
  },
  {
   "cell_type": "code",
   "execution_count": 28,
   "id": "0b5a0fe5",
   "metadata": {},
   "outputs": [
    {
     "data": {
      "text/plain": [
       "[0, 1, 1, 2, 3, 5, 8, 13]"
      ]
     },
     "execution_count": 28,
     "metadata": {},
     "output_type": "execute_result"
    }
   ],
   "source": [
    "fib_series(0, 1)"
   ]
  },
  {
   "cell_type": "markdown",
   "id": "6775826b",
   "metadata": {},
   "source": [
    "Arbitrary Arguments:\n",
    "While creating a function, pass a * before the parameter name while defining the function. The function accesses the arguments by processing them in the form of tuple.\n",
    "\n",
    "Return type of a function is tuple. We have to typecast the argument values at the starting point of time only. Also, while calling a function we can pass the list, tuples, strings as an arguments.\n"
   ]
  },
  {
   "cell_type": "code",
   "execution_count": 61,
   "id": "6741667d",
   "metadata": {},
   "outputs": [],
   "source": [
    "def fib_series(*num):\n",
    "    a = int(num[0])\n",
    "    b = int(num[1])\n",
    "    y = [a, b]\n",
    "    while(a <= 5):\n",
    "        x = a + b\n",
    "        y.append(x)\n",
    "        a = b\n",
    "        b = x\n",
    "    return y"
   ]
  },
  {
   "cell_type": "code",
   "execution_count": 63,
   "id": "35b5ecdf",
   "metadata": {},
   "outputs": [
    {
     "data": {
      "text/plain": [
       "[0, 1, 1, 2, 3, 5, 8, 13]"
      ]
     },
     "execution_count": 63,
     "metadata": {},
     "output_type": "execute_result"
    }
   ],
   "source": [
    "a = 0\n",
    "b = 1\n",
    "fib_series(a, b)"
   ]
  },
  {
   "cell_type": "markdown",
   "id": "72cee932",
   "metadata": {},
   "source": [
    "############## Keyword Arbitrary Arguments #######################\n",
    "#### While creating a function, pass a * before the parameter name while defining the function. The function accesses the arguments by processing them in the form of dictionary. \n",
    "\n",
    "We have to pass keys and its corresponding values while calling a function. Return type of a function is dictionary."
   ]
  },
  {
   "cell_type": "code",
   "execution_count": 68,
   "id": "cb5d6cfd",
   "metadata": {},
   "outputs": [],
   "source": [
    "def emp_details(**emp):\n",
    "    # d = dict()\n",
    "    # d[\"name\"] = emp[\"name\"]\n",
    "    # d[\"mob\"] = emp[\"mob\"]\n",
    "    # d[\"email\"] = emp[\"email\"]\n",
    "    # d[\"address\"] = emp[\"address\"]\n",
    "    # return d\n",
    "    return emp\n",
    "    # print(emp[0], emp[1], emp[2], emp[3])"
   ]
  },
  {
   "cell_type": "code",
   "execution_count": 70,
   "id": "65eb080d",
   "metadata": {},
   "outputs": [
    {
     "data": {
      "text/plain": [
       "{'name': {'deepika', 'varun', 'xyz'},\n",
       " 'mob': {'123', '456', '789'},\n",
       " 'email': {'1@gmail.com', '2@gmail.com', '3@gmail.com'},\n",
       " 'address': {'1', '2', '3'}}"
      ]
     },
     "execution_count": 70,
     "metadata": {},
     "output_type": "execute_result"
    }
   ],
   "source": [
    "name = \"Deepika\"\n",
    "mob = \"XXXXXXX\"\n",
    "email = \"xxxx@gmail.com\"\n",
    "address = \"yyyyyyy\"\n",
    "emp_details(name = {\"varun\", \"deepika\", \"xyz\"}, mob = {\"123\", \"456\", \"789\"}, email = {\"1@gmail.com\", \"2@gmail.com\", \"3@gmail.com\"}, address= {\"1\", \"2\", \"3\"})"
   ]
  },
  {
   "cell_type": "code",
   "execution_count": 71,
   "id": "4cbdbc66",
   "metadata": {},
   "outputs": [
    {
     "data": {
      "text/plain": [
       "{'name': 'deepika',\n",
       " 'mob': 'XXXXXXX',\n",
       " 'email': 'xxxx@gmail.com',\n",
       " 'address': 'yyyyyyy'}"
      ]
     },
     "execution_count": 71,
     "metadata": {},
     "output_type": "execute_result"
    }
   ],
   "source": [
    "emp_details(name = 'deepika', mob = \"XXXXXXX\", email = \"xxxx@gmail.com\", address = \"yyyyyyy\")"
   ]
  },
  {
   "cell_type": "code",
   "execution_count": 75,
   "id": "f9abfc0b",
   "metadata": {},
   "outputs": [
    {
     "data": {
      "text/plain": [
       "{'name': {'deepika', 'varun', 'xyz'},\n",
       " 'mob': ('123', '456', '789'),\n",
       " 'email': ('1@gmail.com', '2@gmail.com', '3@gmail.com'),\n",
       " 'address': ['1', '2', '3']}"
      ]
     },
     "execution_count": 75,
     "metadata": {},
     "output_type": "execute_result"
    }
   ],
   "source": [
    "emp_details(name = {\"varun\", \"deepika\", \"xyz\"}, mob = (\"123\", \"456\", \"789\"), email = (\"1@gmail.com\", \"2@gmail.com\", \"3@gmail.com\"), address= [\"1\", \"2\", \"3\"])"
   ]
  },
  {
   "cell_type": "code",
   "execution_count": 105,
   "id": "036b2897",
   "metadata": {},
   "outputs": [],
   "source": [
    "def emp1(*args, **kwargs):\n",
    "    m = []\n",
    "    # print(\"Arguments\", args)\n",
    "    # print(\"Keyword Arguments\", kwargs)\n",
    "    for i in args:\n",
    "        if type(i) == list:\n",
    "            # print(i)\n",
    "            for j in i:\n",
    "                if type(j) == int:\n",
    "                    m.append(j)  \n",
    "\n",
    "        if type(i) == tuple:\n",
    "            # print(i)\n",
    "            for j in i:\n",
    "                if type(j) == int:\n",
    "                    m.append(j)\n",
    "    \n",
    "\n",
    "    for i in kwargs.values():\n",
    "        \n",
    "        if type(i) == tuple or type(i) == list:\n",
    "            for j in i:\n",
    "                if type(j) == int:\n",
    "                    m.append(j)\n",
    "    return m"
   ]
  },
  {
   "cell_type": "code",
   "execution_count": 106,
   "id": "40c31b8c",
   "metadata": {},
   "outputs": [
    {
     "data": {
      "text/plain": [
       "[1, 2, 3, 9, 10, 123, 456, 789, 1, 2, 3]"
      ]
     },
     "execution_count": 106,
     "metadata": {},
     "output_type": "execute_result"
    }
   ],
   "source": [
    "emp1((1,2,3),\"name\",\"email\", 3.45, 3+4j, [9, 10], name = {\"varun\", \"deepika\", \"xyz\"}, mob = (123, 456, 789), email = (\"1@gmail.com\", \"2@gmail.com\", \"3@gmail.com\"), address= [1, 2, 3])"
   ]
  },
  {
   "cell_type": "code",
   "execution_count": 171,
   "id": "88af3880",
   "metadata": {},
   "outputs": [],
   "source": [
    "def emp1(*args, **kwargs):\n",
    "    m = []\n",
    "    l = []\n",
    "    v = []\n",
    "    d = {}\n",
    "    # print(\"Arguments\", args)\n",
    "    # print(\"Keyword Arguments\", kwargs)\n",
    "    for i in args:\n",
    "        if type(i) == list:\n",
    "            # print(i)\n",
    "            for j in i:\n",
    "                if type(j) == int:\n",
    "                    m.append(j)\n",
    "    \n",
    "        if type(i) == tuple:\n",
    "            # print(i)\n",
    "            for j in i:\n",
    "                if type(j) == int:\n",
    "                    v.append(j)\n",
    "        v = tuple(v)\n",
    "        # print(\"V\", type(v))\n",
    "    \n",
    "\n",
    "    if type(m) == list:\n",
    "        l.insert(0, m) \n",
    "    if type(v) == tuple:\n",
    "        l.insert(1, v)\n",
    "    if type(d) == dict:\n",
    "        l.insert(2, d)\n",
    "\n",
    "    # print(\"D\", type(d), d)\n",
    "    \n",
    "    \n",
    "    for (i, j) in kwargs.items():\n",
    "        # print(i)\n",
    "        if type(j) == list:\n",
    "            for k in j:\n",
    "                print(j)\n",
    "                if type(k)== int:\n",
    "                    d[i] = j\n",
    "    return l"
   ]
  },
  {
   "cell_type": "code",
   "execution_count": 172,
   "id": "79c26602",
   "metadata": {},
   "outputs": [
    {
     "name": "stdout",
     "output_type": "stream",
     "text": [
      "[1, 2, 3]\n",
      "[1, 2, 3]\n",
      "[1, 2, 3]\n"
     ]
    },
    {
     "data": {
      "text/plain": [
       "[[9, 10], (1, 2, 3), {'address': [1, 2, 3]}]"
      ]
     },
     "execution_count": 172,
     "metadata": {},
     "output_type": "execute_result"
    }
   ],
   "source": [
    "emp1((1,2,3),\"name\",\"email\", 3.45, 3+4j, [9, 10], name = {\"varun\", \"deepika\", \"xyz\"}, mob = (123, 456, 789), email = (\"1@gmail.com\", \"2@gmail.com\", \"3@gmail.com\"), address = [1, 2, 3])"
   ]
  },
  {
   "cell_type": "markdown",
   "id": "7795f4d1",
   "metadata": {},
   "source": [
    "Function Generator using Yield Keyword"
   ]
  },
  {
   "cell_type": "code",
   "execution_count": 187,
   "id": "d1128525",
   "metadata": {},
   "outputs": [],
   "source": [
    "def table (num):\n",
    "    for i in range (1, 21):\n",
    "        yield (num * i)\n",
    "        "
   ]
  },
  {
   "cell_type": "code",
   "execution_count": 188,
   "id": "71c60416",
   "metadata": {},
   "outputs": [
    {
     "name": "stdout",
     "output_type": "stream",
     "text": [
      "5\n",
      "10\n",
      "15\n",
      "20\n",
      "25\n",
      "30\n",
      "35\n",
      "40\n",
      "45\n",
      "50\n",
      "55\n",
      "60\n",
      "65\n",
      "70\n",
      "75\n",
      "80\n",
      "85\n",
      "90\n",
      "95\n",
      "100\n"
     ]
    }
   ],
   "source": [
    "for i in table(5):\n",
    "    print(i, end = \"\\n\")"
   ]
  },
  {
   "cell_type": "code",
   "execution_count": 191,
   "id": "61be199a",
   "metadata": {},
   "outputs": [],
   "source": [
    "def table (num):\n",
    "    for i in range (1, 21):\n",
    "        yield (str(num) + \" X \" + str(i) + \" = \" + str(num * i))"
   ]
  },
  {
   "cell_type": "code",
   "execution_count": 192,
   "id": "862c7a85",
   "metadata": {},
   "outputs": [
    {
     "name": "stdout",
     "output_type": "stream",
     "text": [
      "5 X 1 = 5\n",
      "5 X 2 = 10\n",
      "5 X 3 = 15\n",
      "5 X 4 = 20\n",
      "5 X 5 = 25\n",
      "5 X 6 = 30\n",
      "5 X 7 = 35\n",
      "5 X 8 = 40\n",
      "5 X 9 = 45\n",
      "5 X 10 = 50\n",
      "5 X 11 = 55\n",
      "5 X 12 = 60\n",
      "5 X 13 = 65\n",
      "5 X 14 = 70\n",
      "5 X 15 = 75\n",
      "5 X 16 = 80\n",
      "5 X 17 = 85\n",
      "5 X 18 = 90\n",
      "5 X 19 = 95\n",
      "5 X 20 = 100\n"
     ]
    }
   ],
   "source": [
    "for i in table(5):\n",
    "    print(i, end = \"\\n\")"
   ]
  },
  {
   "cell_type": "markdown",
   "id": "5bc7083b",
   "metadata": {},
   "source": [
    "Lambda Function: This function is without a name.\n",
    "\n",
    "Syntax:\n",
    "func_name = lambda arguments: expression"
   ]
  },
  {
   "cell_type": "code",
   "execution_count": 194,
   "id": "04e8ecda",
   "metadata": {},
   "outputs": [],
   "source": [
    "lst = [1,9,7,10,7,89,55,34,20,99,2]\n",
    "\n",
    "f1 = sorted(lst, key = lambda a: float(a))"
   ]
  },
  {
   "cell_type": "code",
   "execution_count": 195,
   "id": "e111744f",
   "metadata": {},
   "outputs": [
    {
     "data": {
      "text/plain": [
       "[1, 2, 7, 7, 9, 10, 20, 34, 55, 89, 99]"
      ]
     },
     "execution_count": 195,
     "metadata": {},
     "output_type": "execute_result"
    }
   ],
   "source": [
    "f1"
   ]
  },
  {
   "cell_type": "code",
   "execution_count": 198,
   "id": "915b7b54",
   "metadata": {},
   "outputs": [
    {
     "data": {
      "text/plain": [
       "[2, 10, 20, 34]"
      ]
     },
     "execution_count": 198,
     "metadata": {},
     "output_type": "execute_result"
    }
   ],
   "source": [
    "v = list(filter(lambda z: z % 2 == 0, f1))\n",
    "v"
   ]
  },
  {
   "cell_type": "code",
   "execution_count": 200,
   "id": "6cb0ef5b",
   "metadata": {},
   "outputs": [
    {
     "data": {
      "text/plain": [
       "[11, 19, 17, 20, 17, 99, 65, 44, 30, 109, 12]"
      ]
     },
     "execution_count": 200,
     "metadata": {},
     "output_type": "execute_result"
    }
   ],
   "source": [
    "b = list(map(lambda z: z+10, lst))\n",
    "b"
   ]
  },
  {
   "cell_type": "markdown",
   "id": "9dfccb35",
   "metadata": {},
   "source": [
    "Using FOR LOOP"
   ]
  },
  {
   "cell_type": "code",
   "execution_count": 205,
   "id": "c681be39",
   "metadata": {},
   "outputs": [],
   "source": [
    "a = lambda x : [x * i for i in range(1, 11)]"
   ]
  },
  {
   "cell_type": "code",
   "execution_count": 206,
   "id": "f9e73ab8",
   "metadata": {},
   "outputs": [
    {
     "data": {
      "text/plain": [
       "[10, 20, 30, 40, 50, 60, 70, 80, 90, 100]"
      ]
     },
     "execution_count": 206,
     "metadata": {},
     "output_type": "execute_result"
    }
   ],
   "source": [
    "a(10)"
   ]
  },
  {
   "cell_type": "code",
   "execution_count": 213,
   "id": "5d0623d4",
   "metadata": {},
   "outputs": [],
   "source": [
    "num = lambda a, b : max(a, b)"
   ]
  },
  {
   "cell_type": "code",
   "execution_count": 214,
   "id": "3e047b37",
   "metadata": {},
   "outputs": [
    {
     "data": {
      "text/plain": [
       "20"
      ]
     },
     "execution_count": 214,
     "metadata": {},
     "output_type": "execute_result"
    }
   ],
   "source": [
    "num(10, 20)"
   ]
  },
  {
   "cell_type": "markdown",
   "id": "1aa85d83",
   "metadata": {},
   "source": [
    "Using IF ELSE CONDITION"
   ]
  },
  {
   "cell_type": "code",
   "execution_count": 215,
   "id": "aacecb04",
   "metadata": {},
   "outputs": [],
   "source": [
    "max_two = lambda a, b : a if a > b else b"
   ]
  },
  {
   "cell_type": "code",
   "execution_count": 216,
   "id": "1b3c9ab3",
   "metadata": {},
   "outputs": [
    {
     "data": {
      "text/plain": [
       "20"
      ]
     },
     "execution_count": 216,
     "metadata": {},
     "output_type": "execute_result"
    }
   ],
   "source": [
    "max_two(10, 20)"
   ]
  },
  {
   "cell_type": "code",
   "execution_count": 229,
   "id": "29d311f5",
   "metadata": {},
   "outputs": [],
   "source": [
    "l = \"New Beginning of Life!!!\"\n",
    "\n",
    "t = lambda l : [i for i in l]"
   ]
  },
  {
   "cell_type": "code",
   "execution_count": 238,
   "id": "d6d427c4",
   "metadata": {},
   "outputs": [
    {
     "name": "stdout",
     "output_type": "stream",
     "text": [
      "['N', 'e', 'w', ' ', 'B', 'e', 'g', 'i', 'n', 'n', 'i', 'n', 'g', ' ', 'o', 'f', ' ', 'L', 'i', 'f', 'e', '!', '!', '!'] "
     ]
    }
   ],
   "source": [
    "print(t(l), end = \" \")"
   ]
  },
  {
   "cell_type": "code",
   "execution_count": 245,
   "id": "02c076fb",
   "metadata": {},
   "outputs": [],
   "source": [
    "sum = lambda a, b: a + b"
   ]
  },
  {
   "cell_type": "code",
   "execution_count": 246,
   "id": "e52e7e8b",
   "metadata": {},
   "outputs": [
    {
     "data": {
      "text/plain": [
       "112"
      ]
     },
     "execution_count": 246,
     "metadata": {},
     "output_type": "execute_result"
    }
   ],
   "source": [
    "sum (45, 67)"
   ]
  },
  {
   "cell_type": "code",
   "execution_count": 247,
   "id": "d26dc632",
   "metadata": {},
   "outputs": [],
   "source": [
    "sq = lambda x : [i **2 for i in x] # Single line anonymous function using lambda"
   ]
  },
  {
   "cell_type": "code",
   "execution_count": 248,
   "id": "9ae41df8",
   "metadata": {},
   "outputs": [
    {
     "data": {
      "text/plain": [
       "[1, 4, 9, 16, 25, 36]"
      ]
     },
     "execution_count": 248,
     "metadata": {},
     "output_type": "execute_result"
    }
   ],
   "source": [
    "sq([1,2,3,4,5,6])"
   ]
  },
  {
   "cell_type": "code",
   "execution_count": 261,
   "id": "8a4bcacc",
   "metadata": {},
   "outputs": [],
   "source": [
    "lst = [1, 2, 3, 4, 5]\n",
    "sq1 = list(map(lambda x: x **2, lst)) # For loop is not going to run with the map function. All elements can be accessed from a list using map function."
   ]
  },
  {
   "cell_type": "code",
   "execution_count": 262,
   "id": "cfc9c1a2",
   "metadata": {},
   "outputs": [
    {
     "data": {
      "text/plain": [
       "[1, 4, 9, 16, 25]"
      ]
     },
     "execution_count": 262,
     "metadata": {},
     "output_type": "execute_result"
    }
   ],
   "source": [
    "sq1"
   ]
  },
  {
   "cell_type": "code",
   "execution_count": 267,
   "id": "8e32f69b",
   "metadata": {},
   "outputs": [],
   "source": [
    "l = list(map(lambda x: str(x), sq1)) "
   ]
  },
  {
   "cell_type": "code",
   "execution_count": 268,
   "id": "289ad6a3",
   "metadata": {},
   "outputs": [
    {
     "data": {
      "text/plain": [
       "['1', '4', '9', '16', '25']"
      ]
     },
     "execution_count": 268,
     "metadata": {},
     "output_type": "execute_result"
    }
   ],
   "source": [
    "l"
   ]
  },
  {
   "cell_type": "code",
   "execution_count": 269,
   "id": "53637241",
   "metadata": {},
   "outputs": [],
   "source": [
    "l1 = [1, 2, 3, 4, 5]\n",
    "l2 = [6, 7, 8, 9, 10]\n",
    "\n",
    "l3 = list(map(lambda v, d: v + d, l1, l2))"
   ]
  },
  {
   "cell_type": "code",
   "execution_count": 270,
   "id": "9e02c4fd",
   "metadata": {},
   "outputs": [
    {
     "data": {
      "text/plain": [
       "[7, 9, 11, 13, 15]"
      ]
     },
     "execution_count": 270,
     "metadata": {},
     "output_type": "execute_result"
    }
   ],
   "source": [
    "l3"
   ]
  },
  {
   "cell_type": "code",
   "execution_count": 273,
   "id": "ba4a2353",
   "metadata": {},
   "outputs": [],
   "source": [
    "def sum_two(a, b):\n",
    "    l3 = []\n",
    "    if len(a) == len(b):\n",
    "        for i in range(len(a)):\n",
    "            l3.append(a[i] + b [i])\n",
    "\n",
    "    return l3\n",
    "\n"
   ]
  },
  {
   "cell_type": "code",
   "execution_count": 274,
   "id": "bbadca5d",
   "metadata": {},
   "outputs": [
    {
     "data": {
      "text/plain": [
       "[7, 9, 11, 13, 15]"
      ]
     },
     "execution_count": 274,
     "metadata": {},
     "output_type": "execute_result"
    }
   ],
   "source": [
    "sum_two(l1, l2)"
   ]
  },
  {
   "cell_type": "code",
   "execution_count": 276,
   "id": "d8c047cf",
   "metadata": {},
   "outputs": [
    {
     "data": {
      "text/plain": [
       "[7, 9, 11, 13, 15]"
      ]
     },
     "execution_count": 276,
     "metadata": {},
     "output_type": "execute_result"
    }
   ],
   "source": [
    "q = list(map(lambda x, y: x + y, l1, l2))\n",
    "q"
   ]
  },
  {
   "cell_type": "code",
   "execution_count": 277,
   "id": "fdfd1bc0",
   "metadata": {},
   "outputs": [],
   "source": [
    "from functools import reduce"
   ]
  },
  {
   "cell_type": "code",
   "execution_count": 278,
   "id": "4288724c",
   "metadata": {},
   "outputs": [
    {
     "data": {
      "text/plain": [
       "55"
      ]
     },
     "execution_count": 278,
     "metadata": {},
     "output_type": "execute_result"
    }
   ],
   "source": [
    "reduce(lambda a, b: a +b , q)"
   ]
  },
  {
   "cell_type": "code",
   "execution_count": 279,
   "id": "e5a42d2d",
   "metadata": {},
   "outputs": [],
   "source": [
    "b = reduce (lambda v, d : v + d, l1) + reduce (lambda v, d : v + d, l2)"
   ]
  },
  {
   "cell_type": "code",
   "execution_count": 280,
   "id": "10e01b17",
   "metadata": {},
   "outputs": [
    {
     "data": {
      "text/plain": [
       "55"
      ]
     },
     "execution_count": 280,
     "metadata": {},
     "output_type": "execute_result"
    }
   ],
   "source": [
    "b"
   ]
  },
  {
   "cell_type": "code",
   "execution_count": 284,
   "id": "e516af30",
   "metadata": {},
   "outputs": [
    {
     "data": {
      "text/plain": [
       "15"
      ]
     },
     "execution_count": 284,
     "metadata": {},
     "output_type": "execute_result"
    }
   ],
   "source": [
    "reduce(lambda x, y : x if x > y else y , q)"
   ]
  },
  {
   "cell_type": "code",
   "execution_count": 285,
   "id": "7deb3120",
   "metadata": {},
   "outputs": [],
   "source": [
    "l = [1, 2, 3, 4, 5, 6, 7, 8, 9, 10]\n"
   ]
  },
  {
   "cell_type": "code",
   "execution_count": 287,
   "id": "1067f580",
   "metadata": {},
   "outputs": [
    {
     "data": {
      "text/plain": [
       "[2, 4, 6, 8, 10]"
      ]
     },
     "execution_count": 287,
     "metadata": {},
     "output_type": "execute_result"
    }
   ],
   "source": [
    "list(filter(lambda x: x % 2 == 0, l))"
   ]
  },
  {
   "cell_type": "code",
   "execution_count": 288,
   "id": "500d1120",
   "metadata": {},
   "outputs": [],
   "source": [
    "varun = [i for i in range(1, 10)]\n",
    "deepika = [-i for i in range(1, 10)]"
   ]
  },
  {
   "cell_type": "code",
   "execution_count": 289,
   "id": "0cdd41a6",
   "metadata": {},
   "outputs": [
    {
     "data": {
      "text/plain": [
       "[1, 2, 3, 4, 5, 6, 7, 8, 9]"
      ]
     },
     "execution_count": 289,
     "metadata": {},
     "output_type": "execute_result"
    }
   ],
   "source": [
    "varun"
   ]
  },
  {
   "cell_type": "code",
   "execution_count": 290,
   "id": "e5670ec7",
   "metadata": {},
   "outputs": [
    {
     "data": {
      "text/plain": [
       "[-1, -2, -3, -4, -5, -6, -7, -8, -9]"
      ]
     },
     "execution_count": 290,
     "metadata": {},
     "output_type": "execute_result"
    }
   ],
   "source": [
    "deepika"
   ]
  },
  {
   "cell_type": "code",
   "execution_count": 291,
   "id": "2258ebd8",
   "metadata": {},
   "outputs": [
    {
     "data": {
      "text/plain": [
       "[1, 2, 3, 4]"
      ]
     },
     "execution_count": 291,
     "metadata": {},
     "output_type": "execute_result"
    }
   ],
   "source": [
    "list(filter(lambda v: v < 5, varun))"
   ]
  },
  {
   "cell_type": "code",
   "execution_count": 293,
   "id": "1ea60f8a",
   "metadata": {},
   "outputs": [
    {
     "data": {
      "text/plain": [
       "[-8, -9]"
      ]
     },
     "execution_count": 293,
     "metadata": {},
     "output_type": "execute_result"
    }
   ],
   "source": [
    "list(filter(lambda d: d < -7, deepika))"
   ]
  },
  {
   "cell_type": "code",
   "execution_count": 294,
   "id": "398188c2",
   "metadata": {},
   "outputs": [],
   "source": [
    "text = ['deepika', 'neha', 'anjily', 'ritu', 'divya', 'deeksha']"
   ]
  },
  {
   "cell_type": "code",
   "execution_count": 297,
   "id": "1440ebe9",
   "metadata": {},
   "outputs": [
    {
     "data": {
      "text/plain": [
       "['deepika']"
      ]
     },
     "execution_count": 297,
     "metadata": {},
     "output_type": "execute_result"
    }
   ],
   "source": [
    "list(filter(lambda t: t[0] == 'd', text))"
   ]
  },
  {
   "cell_type": "code",
   "execution_count": null,
   "id": "61660dfd",
   "metadata": {},
   "outputs": [],
   "source": []
  }
 ],
 "metadata": {
  "kernelspec": {
   "display_name": "Python 3 (ipykernel)",
   "language": "python",
   "name": "python3"
  },
  "language_info": {
   "codemirror_mode": {
    "name": "ipython",
    "version": 3
   },
   "file_extension": ".py",
   "mimetype": "text/x-python",
   "name": "python",
   "nbconvert_exporter": "python",
   "pygments_lexer": "ipython3",
   "version": "3.8.8"
  }
 },
 "nbformat": 4,
 "nbformat_minor": 5
}
