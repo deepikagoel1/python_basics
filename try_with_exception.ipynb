{
 "cells": [
  {
   "cell_type": "code",
   "execution_count": 1,
   "metadata": {},
   "outputs": [],
   "source": [
    "import logging\n"
   ]
  },
  {
   "cell_type": "code",
   "execution_count": 2,
   "metadata": {},
   "outputs": [],
   "source": [
    "# logging.basicConfig(filename = \"c1.log\", level = logging.INFO, format = '%(asctime)s %(message)s') # With formatting, logging with its level won't be highlighted."
   ]
  },
  {
   "cell_type": "code",
   "execution_count": 3,
   "metadata": {},
   "outputs": [],
   "source": [
    "logging.basicConfig(filename = \"c1.log\", level = logging.INFO) #If formatting is not included in the basic config of logging then the level will be highlighted."
   ]
  },
  {
   "cell_type": "code",
   "execution_count": 4,
   "metadata": {},
   "outputs": [],
   "source": [
    "a = 10\n",
    "b = 0\n",
    "try:\n",
    "    c = a / b\n",
    "    print(\"the value of c is: \", c)\n",
    "except Exception as e:\n",
    "    # logger = logging.getLogger('example_logger')\n",
    "    logging.error(\"Number cannot be divisible by 0!\")\n"
   ]
  },
  {
   "cell_type": "code",
   "execution_count": 5,
   "metadata": {},
   "outputs": [],
   "source": [
    "try:\n",
    "    with open(\"check1.txt\", \"r\") as file1:\n",
    "        file1.read() #local variable to this block.\n",
    "except Exception as e:\n",
    "    logging.error(\"There is no file present with the name.\")"
   ]
  },
  {
   "cell_type": "code",
   "execution_count": 6,
   "metadata": {},
   "outputs": [],
   "source": [
    "try:\n",
    "    with open(\"check1.txt\", \"r\") as file1:\n",
    "        file1.read() #local variable to this block.\n",
    "except Exception as e:\n",
    "    logging.error(\"There is no file present with the name.\")\n",
    "else:\n",
    "    logging.info(\"This is the else block which is going to be print!\") # Else block is not going to run as under try block the condition is false.\n",
    "    "
   ]
  },
  {
   "cell_type": "code",
   "execution_count": 8,
   "metadata": {},
   "outputs": [],
   "source": [
    "try:\n",
    "    with open(\"check1.txt\", \"w\") as file1:\n",
    "        file1.write(\"Testing the try, except and else block\") #local variable to this block.\n",
    "except Exception as e:\n",
    "    logging.error(\"There is no file present with the name.\")\n",
    "else:\n",
    "    logging.info(\"This is the else block which is going to be print!\") # Else block is going to run as under try block the condition is true.\n",
    "    "
   ]
  },
  {
   "cell_type": "code",
   "execution_count": 12,
   "metadata": {},
   "outputs": [],
   "source": [
    "try:\n",
    "    with open(\"check1.txt\", \"w\") as file1:\n",
    "        file1.write(\"Testing the try, except and else block\") #local variable to this block.\n",
    "except Exception as e:\n",
    "    logging.error(\"There is no file present with the name!\")\n",
    "else:\n",
    "    logging.info(\"This is the else block which is going to be print!\") # Else block is going to run as under try block the condition is true.\n",
    "finally:\n",
    "    logging.info(\"The statement is going to run from the final block!\") #Final block is always going to run itself irrespective of try, exception or else block."
   ]
  },
  {
   "cell_type": "code",
   "execution_count": 13,
   "metadata": {},
   "outputs": [],
   "source": [
    "try:\n",
    "    with open(\"ch.txt\", \"r\") as file1:\n",
    "        file1.read() #local variable to this block.\n",
    "except Exception as e:\n",
    "    logging.error(\"There is no file present with the name.\")\n",
    "else:\n",
    "    logging.info(\"This is the else block which is going to be print!\") # Else block is not going to run as under try block the condition is false.\n",
    "finally:\n",
    "    logging.info(\"The statement is going to run from the final block!\") #Final block is always going to run itself irrespective of try, exception or else block."
   ]
  },
  {
   "cell_type": "code",
   "execution_count": null,
   "metadata": {},
   "outputs": [],
   "source": []
  }
 ],
 "metadata": {
  "kernelspec": {
   "display_name": "Python 3",
   "language": "python",
   "name": "python3"
  },
  "language_info": {
   "codemirror_mode": {
    "name": "ipython",
    "version": 3
   },
   "file_extension": ".py",
   "mimetype": "text/x-python",
   "name": "python",
   "nbconvert_exporter": "python",
   "pygments_lexer": "ipython3",
   "version": "3.8.8rc1"
  }
 },
 "nbformat": 4,
 "nbformat_minor": 2
}
